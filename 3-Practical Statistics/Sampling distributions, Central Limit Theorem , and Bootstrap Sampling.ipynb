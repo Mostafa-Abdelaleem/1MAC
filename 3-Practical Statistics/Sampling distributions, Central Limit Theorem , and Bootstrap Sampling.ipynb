{
 "cells": [
  {
   "cell_type": "markdown",
   "id": "48bd5f63",
   "metadata": {},
   "source": [
    "# Sampling Distributions Introduction\n",
    "\n",
    "In order to gain a bit more comfort with this idea of sampling distributions, let's do some practice in python.\n",
    "\n",
    "Below is an array that represents the students we saw in the previous videos, where 1 represents the students that drink coffee, and 0 represents the students that do not drink coffee."
   ]
  },
  {
   "cell_type": "code",
   "execution_count": 52,
   "id": "019c7756",
   "metadata": {},
   "outputs": [
    {
     "name": "stdout",
     "output_type": "stream",
     "text": [
      "std of the data is:  0.45175395145262565\n",
      "var of the data is:  0.20408163265306126 \n",
      "\n"
     ]
    }
   ],
   "source": [
    "import numpy as np\n",
    "np.random.seed(42)\n",
    "\n",
    "students = np.array([1,0,1,1,1,1,0,0,0,0,1,1,1,1,1,1,1,1,1,1,0])\n",
    "#proportion of students who drink coffee in the above array\n",
    "p = students.mean()\n",
    "\n",
    "#What are the variance and standard deviation for the original 21 data values?\n",
    "print('std of the data is: ',np.std(students))\n",
    "print('var of the data is: ',np.var(students),'\\n')"
   ]
  },
  {
   "cell_type": "code",
   "execution_count": 53,
   "id": "2b1ceaa6",
   "metadata": {},
   "outputs": [
    {
     "data": {
      "text/plain": [
       "0.6"
      ]
     },
     "metadata": {},
     "output_type": "display_data"
    },
    {
     "name": "stdout",
     "output_type": "stream",
     "text": [
      "when sample is 5 out of 21 std is:  0.2043624231604235\n",
      "when sample is 5 out of 21 var is:  0.041763999999999996 \n",
      "\n"
     ]
    }
   ],
   "source": [
    "#simulate 5 draws from the students array\n",
    "sample=np.random.choice(students,5,replace=True)\n",
    "display(sample.mean())\n",
    "#repeat the sampling 10000\n",
    "sample_props=[]\n",
    "for i in range (10000):\n",
    "    sample=np.random.choice(students,5,replace=True)\n",
    "    sample_props.append(sample.mean())\n",
    "#What is the mean proportion of all 10,000 of these proportions\n",
    "#This is often called the mean of the ((( sampling distribution. )))\n",
    "np.array(sample_props).mean()\n",
    "#What are the variance and standard deviation for the 10,000 proportions you created?\n",
    "print('when sample is 5 out of 21 std is: ',np.std(sample_props))\n",
    "print('when sample is 5 out of 21 var is: ',np.var(sample_props),'\\n')\n"
   ]
  },
  {
   "cell_type": "code",
   "execution_count": 54,
   "id": "092b619f",
   "metadata": {},
   "outputs": [
    {
     "name": "stdout",
     "output_type": "stream",
     "text": [
      "The variance of the original data 0.20408163265306123\n",
      "variance of the sampling distribution 0.04081632653061225 \n",
      "\n"
     ]
    }
   ],
   "source": [
    "#Compute p(1-p), which of your answers does this most closely match?\n",
    "print('The variance of the original data',p*(1-p)) # The variance of the original data\n",
    "#Compute p(1-p)/n, which of your answers does this most closely match?\n",
    "print('variance of the sampling distribution',p*(1-p)/5,'\\n')# The variance of the sample mean of size 5  /  commonly called the variance of the sampling distribution.\n"
   ]
  },
  {
   "cell_type": "code",
   "execution_count": 55,
   "id": "dedddbcc",
   "metadata": {},
   "outputs": [
    {
     "name": "stdout",
     "output_type": "stream",
     "text": [
      "when sample is 20 out of 21 std is:  0.10149381446669545\n",
      "when sample is 20 out of 21 var is:  0.010300994374999999\n"
     ]
    }
   ],
   "source": [
    "#If you were to change your first sample to be 20, what would this do for the variance of the sampling distribution\n",
    "sample_props2=[]\n",
    "for i in range (10000):\n",
    "    sample=np.random.choice(students,20,replace=True)\n",
    "    sample_props2.append(sample.mean())\n",
    "print('when sample is 20 out of 21 std is: ',np.array(sample_props2).std())\n",
    "print('when sample is 20 out of 21 var is: ',np.array(sample_props2).var())\n"
   ]
  },
  {
   "cell_type": "markdown",
   "id": "a9ab0b6d",
   "metadata": {},
   "source": [
    "## creating a population dataset stored in pop_data."
   ]
  },
  {
   "cell_type": "code",
   "execution_count": 56,
   "id": "e3b42847",
   "metadata": {},
   "outputs": [
    {
     "data": {
      "image/png": "[encoded data removed]",
      "text/plain": [
       "<Figure size 432x288 with 1 Axes>"
      ]
     },
     "metadata": {
      "needs_background": "light"
     },
     "output_type": "display_data"
    }
   ],
   "source": [
    "import numpy as np\n",
    "import matplotlib.pyplot as plt\n",
    "\n",
    "%matplotlib inline\n",
    "np.random.seed(42)\n",
    "\n",
    "pop_data = np.random.gamma(1,100, 3000)\n",
    "plt.hist(pop_data);"
   ]
  },
  {
   "cell_type": "code",
   "execution_count": 57,
   "id": "45c6cc48",
   "metadata": {},
   "outputs": [
    {
     "name": "stdout",
     "output_type": "stream",
     "text": [
      "mean of pop_data:  100.35978700795846\n",
      "mean of sample:  103.47556549464393\n",
      "standard deviation of sample:  130.00074035573317\n",
      "standard deviation of pop_data:  99.77860187968906\n",
      "variance of pop_data:  9955.76939306549\n",
      "variance of sample:  16900.192493038754\n"
     ]
    }
   ],
   "source": [
    "# What is the population mean?\n",
    "print(\"mean of pop_data: \",pop_data.mean())\n",
    "# Randomly select 10 draws from the population using numpy's random.choice. What is the sample mean for these 10 values?\n",
    "sample=np.random.choice(pop_data,10,replace=True)\n",
    "print(\"mean of sample: \",sample.mean())\n",
    "# What is the sample standard deviation of your 10 draws?\n",
    "print(\"standard deviation of sample: \",sample.std())\n",
    "# What is the population standard deviation?\n",
    "print(\"standard deviation of pop_data: \",pop_data.std())\n",
    "# What is the population variance?\n",
    "print(\"variance of pop_data: \",pop_data.var())\n",
    "# What is the sample variance?\n",
    "print(\"variance of sample: \",sample.var())\n"
   ]
  },
  {
   "cell_type": "markdown",
   "id": "ce6491be",
   "metadata": {},
   "source": [
    "# Central Limit Theorem\n"
   ]
  },
  {
   "cell_type": "code",
   "execution_count": 58,
   "id": "59cae2d1",
   "metadata": {},
   "outputs": [
    {
     "data": {
      "image/png": "[encoded data removed]",
      "text/plain": [
       "<Figure size 432x288 with 1 Axes>"
      ]
     },
     "metadata": {
      "needs_background": "light"
     },
     "output_type": "display_data"
    }
   ],
   "source": [
    "import numpy as np\n",
    "import matplotlib.pyplot as plt\n",
    "\n",
    "%matplotlib inline\n",
    "np.random.seed(42)\n",
    "\n",
    "pop_data = np.random.gamma(1,100,3000)\n",
    "plt.hist(pop_data);"
   ]
  },
  {
   "cell_type": "markdown",
   "id": "69bb7584",
   "metadata": {},
   "source": [
    "### In order to create the sampling distribution for the average of 3 draws of this distribution, follow these steps:\n",
    "\n",
    "a. Use numpy's random.choice to simulate 3 draws from the pop_data array.\n",
    "\n",
    "b. Compute the mean of these 3 draws.\n",
    "\n",
    "c. Write a loop to simulate this process 10,000 times, and store each mean into an array called means_size_3.\n",
    "\n",
    "d. Plot a histogram of your sample means.\n",
    "\n",
    "e. Use means_size_3 and pop_data to answer the quiz questions below.\n",
    "\n"
   ]
  },
  {
   "cell_type": "code",
   "execution_count": 59,
   "id": "db256a14",
   "metadata": {},
   "outputs": [
    {
     "name": "stdout",
     "output_type": "stream",
     "text": [
      "mean of pop_data:  100.35978700795846\n",
      "mean of sample:  34.86585877838206\n",
      "mean of samples means:  100.87276259567305\n",
      "std of pop_data:  99.77860187968906\n",
      "std of sample:  40.1583317012196\n"
     ]
    },
    {
     "data": {
      "image/png": "[encoded data removed]",
      "text/plain": [
       "<Figure size 432x288 with 1 Axes>"
      ]
     },
     "metadata": {
      "needs_background": "light"
     },
     "output_type": "display_data"
    }
   ],
   "source": [
    "print(\"mean of pop_data: \",pop_data.mean())\n",
    "# --- a ---\n",
    "sample=np.random.choice(pop_data,3,replace=True)\n",
    "# --- b ---\n",
    "print(\"mean of sample: \",sample.mean())\n",
    "# --- c ---\n",
    "means_size_3=[]\n",
    "for _ in range(int(1e4)):\n",
    "    sample=np.random.choice(pop_data,3,replace=True)\n",
    "    means_size_3.append(sample.mean())\n",
    "# --- c ---\n",
    "print(\"mean of samples means: \",np.array(means_size_3).mean())\n",
    "plt.hist(means_size_3) ; \n",
    "# --- e ---\n",
    "print(\"std of pop_data: \",pop_data.std())\n",
    "print(\"std of sample: \",sample.std())\n"
   ]
  },
  {
   "cell_type": "markdown",
   "id": "8224f741",
   "metadata": {},
   "source": [
    "<p style=\"color:red;font-size:20px\">Central limit therom is not working and the distribution is right skwed because 3 samples is not large enough</p>\n",
    "\n",
    "### try again with 100 draws "
   ]
  },
  {
   "cell_type": "code",
   "execution_count": 60,
   "id": "4e7a8828",
   "metadata": {},
   "outputs": [
    {
     "name": "stdout",
     "output_type": "stream",
     "text": [
      "mean of pop_data:  100.35978700795846\n",
      "mean of sample:  97.58388178095666\n",
      "mean of samples means:  100.42857672674262\n",
      "var of pop_data:  9955.76939306549\n",
      "var of sample:  9263.12450241526\n"
     ]
    },
    {
     "data": {
      "image/png": "[encoded data removed]",
      "text/plain": [
       "<Figure size 432x288 with 1 Axes>"
      ]
     },
     "metadata": {
      "needs_background": "light"
     },
     "output_type": "display_data"
    }
   ],
   "source": [
    "print(\"mean of pop_data: \",pop_data.mean())\n",
    "# --- a ---\n",
    "sample=np.random.choice(pop_data,100,replace=True)\n",
    "# --- b ---\n",
    "print(\"mean of sample: \",sample.mean())\n",
    "# --- c ---\n",
    "means_size_100=[]\n",
    "for _ in range(int(1e4)):\n",
    "    sample=np.random.choice(pop_data,100,replace=True)\n",
    "    means_size_100.append(sample.mean())\n",
    "# --- c ---\n",
    "print(\"mean of samples means: \",np.array(means_size_100).mean())\n",
    "plt.hist(means_size_100) ; \n",
    "# --- e ---\n",
    "print(\"var of pop_data: \",pop_data.var())\n",
    "print(\"var of sample: \",sample.var())\n"
   ]
  },
  {
   "cell_type": "markdown",
   "id": "f0592c93",
   "metadata": {},
   "source": [
    "<p style=\"color:blue;font-size:25px\">Central limit therom now working because 100 samples is  large enough</p>\n"
   ]
  },
  {
   "cell_type": "markdown",
   "id": "1e6f8c94",
   "metadata": {},
   "source": [
    "### You saw how the Central Limit Theorem worked for the sample mean in the earlier concept. The Central Limit Theorem states that with a large enough sample size the sampling distribution of the mean will be normally distributed.\n",
    "\n",
    "The Central Limit Theorem actually applies for these well known statistics:\n",
    "* Sample means \n",
    "* Sample proportions \n",
    "* Difference in sample means\n",
    "* Difference in sample proportions\n",
    "And it applies for additional statistics, but it doesn't apply for all statistics! "
   ]
  },
  {
   "cell_type": "code",
   "execution_count": 61,
   "id": "7b045928",
   "metadata": {},
   "outputs": [
    {
     "data": {
      "image/png": "[encoded data removed]",
      "text/plain": [
       "<Figure size 432x288 with 1 Axes>"
      ]
     },
     "metadata": {
      "needs_background": "light"
     },
     "output_type": "display_data"
    }
   ],
   "source": [
    "import numpy as np\n",
    "import matplotlib.pyplot as plt\n",
    "\n",
    "%matplotlib inline\n",
    "np.random.seed(42)\n",
    "\n",
    "pop_data = np.random.gamma(1,100,3000)\n",
    "plt.hist(pop_data);"
   ]
  },
  {
   "cell_type": "markdown",
   "id": "b3791272",
   "metadata": {},
   "source": [
    "`1.` In order to create the sampling distribution for the variance of 100 draws of this distribution, follow these steps:\n",
    "\n",
    "`a.` Use numpy's **random.choice** to simulate 100 draws from the `pop_data` array.   <br><br>\n",
    "`b.` Compute the variance of these 100 draws. <br><br>\n",
    "`c.` Write a loop to simulate this process 10,000 times, and store each variance into an array called **var_size_100**.<br><br>\n",
    "`d.` Plot a histogram of your sample variances.<br><br>\n",
    "`e.` Use **var_size_100** and **pop_data** to answer the quiz questions below. "
   ]
  },
  {
   "cell_type": "code",
   "execution_count": 62,
   "id": "4103132d",
   "metadata": {},
   "outputs": [
    {
     "name": "stdout",
     "output_type": "stream",
     "text": [
      "variance of pop_data:  9955.76939306549\n",
      "variance of sample:  12098.749344943082\n",
      "mean of samples variance:  9874.361793621825\n",
      "Variance of samples variance:  6508086.114509583\n"
     ]
    },
    {
     "data": {
      "image/png": "[encoded data removed]",
      "text/plain": [
       "<Figure size 432x288 with 1 Axes>"
      ]
     },
     "metadata": {
      "needs_background": "light"
     },
     "output_type": "display_data"
    }
   ],
   "source": [
    "print(\"variance of pop_data: \",pop_data.var())\n",
    "# --- a ---\n",
    "sample=np.random.choice(pop_data,100,replace=True)\n",
    "# --- b ---\n",
    "print(\"variance of sample: \",sample.var())\n",
    "# --- c ---\n",
    "var_size_100=[]\n",
    "for _ in range(int(1e4)):\n",
    "    sample=np.random.choice(pop_data,100,replace=True)\n",
    "    var_size_100.append(sample.var())\n",
    "# --- c ---\n",
    "print(\"mean of samples variance: \",np.array(var_size_100).mean())\n",
    "print(\"Variance of samples variance: \",np.array(var_size_100).var())\n",
    "\n",
    "plt.hist(var_size_100) ; \n"
   ]
  },
  {
   "cell_type": "markdown",
   "id": "339760dd",
   "metadata": {},
   "source": [
    "<p style=\"color:red;font-size:20px\">Central limit therom is not working for variance  <br>\n",
    "it isn't normally distributed. It turns out no matter how large your sample size, it will never be normally distributed. This distribution will actually approach a distribution known as a chi-squared distribution."
   ]
  },
  {
   "cell_type": "markdown",
   "id": "99b5b637",
   "metadata": {},
   "source": [
    "# Bootstrap Sampling\n",
    "\n",
    "### sampling with replacement\n"
   ]
  },
  {
   "cell_type": "code",
   "execution_count": 63,
   "id": "7ecb9b56",
   "metadata": {},
   "outputs": [],
   "source": [
    "import numpy as np\n",
    "np.random.seed(42)\n",
    "\n",
    "die_vals = np.array([1,2,3,4,5,6])"
   ]
  },
  {
   "cell_type": "code",
   "execution_count": 65,
   "id": "dd0a1234",
   "metadata": {},
   "outputs": [
    {
     "name": "stdout",
     "output_type": "stream",
     "text": [
      "[5 1 4 2 6 5 4 1 1 3 3 2 4 4 6 6 6 3 4 4]\n"
     ]
    },
    {
     "ename": "ValueError",
     "evalue": "Cannot take a larger sample than population when 'replace=False'",
     "output_type": "error",
     "traceback": [
      "\u001b[0;31m---------------------------------------------------------------------------\u001b[0m",
      "\u001b[0;31mValueError\u001b[0m                                Traceback (most recent call last)",
      "\u001b[0;32m<ipython-input-65-b1dbb16e5f87>\u001b[0m in \u001b[0;36m<module>\u001b[0;34m\u001b[0m\n\u001b[1;32m      1\u001b[0m \u001b[0;31m# Take a random sample of 20 values from die_vals\u001b[0m\u001b[0;34m\u001b[0m\u001b[0;34m\u001b[0m\u001b[0;34m\u001b[0m\u001b[0m\n\u001b[1;32m      2\u001b[0m \u001b[0mprint\u001b[0m\u001b[0;34m(\u001b[0m\u001b[0mnp\u001b[0m\u001b[0;34m.\u001b[0m\u001b[0mrandom\u001b[0m\u001b[0;34m.\u001b[0m\u001b[0mchoice\u001b[0m\u001b[0;34m(\u001b[0m\u001b[0mdie_vals\u001b[0m\u001b[0;34m,\u001b[0m \u001b[0msize\u001b[0m\u001b[0;34m=\u001b[0m\u001b[0;36m20\u001b[0m\u001b[0;34m)\u001b[0m\u001b[0;34m)\u001b[0m\u001b[0;34m\u001b[0m\u001b[0;34m\u001b[0m\u001b[0m\n\u001b[0;32m----> 3\u001b[0;31m \u001b[0mprint\u001b[0m\u001b[0;34m(\u001b[0m\u001b[0mnp\u001b[0m\u001b[0;34m.\u001b[0m\u001b[0mrandom\u001b[0m\u001b[0;34m.\u001b[0m\u001b[0mchoice\u001b[0m\u001b[0;34m(\u001b[0m\u001b[0mdie_vals\u001b[0m\u001b[0;34m,\u001b[0m \u001b[0msize\u001b[0m\u001b[0;34m=\u001b[0m\u001b[0;36m20\u001b[0m\u001b[0;34m,\u001b[0m\u001b[0mreplace\u001b[0m\u001b[0;34m=\u001b[0m\u001b[0;32mFalse\u001b[0m\u001b[0;34m)\u001b[0m\u001b[0;34m)\u001b[0m\u001b[0;34m\u001b[0m\u001b[0;34m\u001b[0m\u001b[0m\n\u001b[0m",
      "\u001b[0;32mmtrand.pyx\u001b[0m in \u001b[0;36mnumpy.random.mtrand.RandomState.choice\u001b[0;34m()\u001b[0m\n",
      "\u001b[0;31mValueError\u001b[0m: Cannot take a larger sample than population when 'replace=False'"
     ]
    }
   ],
   "source": [
    "# Take a random sample of 20 values from die_vals\n",
    "print(np.random.choice(die_vals, size=20))\n",
    "print(np.random.choice(die_vals, size=20,replace=False))\n"
   ]
  },
  {
   "cell_type": "code",
   "execution_count": null,
   "id": "10b4ace9",
   "metadata": {},
   "outputs": [],
   "source": []
  }
 ],
 "metadata": {
  "kernelspec": {
   "display_name": "Python [conda env:anaconda3]",
   "language": "python",
   "name": "conda-env-anaconda3-py"
  },
  "language_info": {
   "codemirror_mode": {
    "name": "ipython",
    "version": 3
   },
   "file_extension": ".py",
   "mimetype": "text/x-python",
   "name": "python",
   "nbconvert_exporter": "python",
   "pygments_lexer": "ipython3",
   "version": "3.8.3"
  }
 },
 "nbformat": 4,
 "nbformat_minor": 5
}
