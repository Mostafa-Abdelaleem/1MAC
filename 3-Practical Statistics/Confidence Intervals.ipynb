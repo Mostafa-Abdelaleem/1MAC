{
 "cells": [
  {
   "cell_type": "markdown",
   "id": "92626da5",
   "metadata": {},
   "source": [
    "# Confidence Intervals\n",
    "\n",
    "## we will use bootstarpping and sampling distribution to get the confidence interval\n",
    " 1- [sample from all the data](#1-sample-from-all-the-data).<br>\n",
    " 2- [gererate many samples from the sample (bootstrapping)](#2-gererate-many-samples-from-the-sample-(bootstrapping)).<br>\n",
    " 3- [calculate the sampling distribution for any statistic](#3-calculate-the-sampling-distribution-for-any-statistic)<br>\n",
    " 4- [compare to the parameter](#4-compare-to-the-parameter)"
   ]
  },
  {
   "cell_type": "markdown",
   "id": "c8cb9bf7",
   "metadata": {},
   "source": [
    "### 1-sample from all the data"
   ]
  },
  {
   "cell_type": "code",
   "execution_count": 85,
   "id": "19af77fc",
   "metadata": {},
   "outputs": [
    {
     "data": {
      "text/plain": [
       "array(['<21', '>=21'], dtype=object)"
      ]
     },
     "execution_count": 85,
     "metadata": {},
     "output_type": "execute_result"
    }
   ],
   "source": [
    "### 1- sample from all the dataimport pandas as pd\n",
    "## First Bullet Header <a class=\"anchor\" id=\"first-bullet\"></a>\n",
    "\n",
    "import numpy as np\n",
    "np.random.seed(42)\n",
    "\n",
    "coffee_full = pd.read_csv('coffee_dataset.csv')\n",
    "coffee_reduced = coffee_full.sample(200) #this is the only data you might actually get in the real world.\n",
    "coffee_reduced.head()\n",
    "coffee_reduced.age.unique()"
   ]
  },
  {
   "cell_type": "code",
   "execution_count": 86,
   "id": "9bde247f",
   "metadata": {},
   "outputs": [
    {
     "data": {
      "text/plain": [
       "True     0.595\n",
       "False    0.405\n",
       "Name: drinks_coffee, dtype: float64"
      ]
     },
     "execution_count": 86,
     "metadata": {},
     "output_type": "execute_result"
    }
   ],
   "source": [
    "#What is the proportion of coffee drinkers in the sample?\n",
    "#What is the proportion of individuals that don't drink coffee?\n",
    "coffee_reduced['drinks_coffee'].value_counts(normalize=True)"
   ]
  },
  {
   "cell_type": "code",
   "execution_count": 87,
   "id": "d317907b",
   "metadata": {},
   "outputs": [
    {
     "name": "stdout",
     "output_type": "stream",
     "text": [
      "68.11962990858618\n",
      "66.78492279927877\n"
     ]
    },
    {
     "data": {
      "text/plain": [
       "Int64Index([2402, 2864, 2167,  507, 1817, 1234,  685, 1208, 2786, 2029,\n",
       "            ...\n",
       "            1432, 2837, 2348, 1557, 1237, 1187,  463, 1195, 1080, 1422],\n",
       "           dtype='int64', length=200)"
      ]
     },
     "execution_count": 87,
     "metadata": {},
     "output_type": "execute_result"
    }
   ],
   "source": [
    "#  Of the individuals who drink coffee,what is the average height?\n",
    "# Of the individuals who do not drink coffee, what is the average height?\n",
    "print(coffee_reduced[coffee_reduced['drinks_coffee']== True].height.mean())\n",
    "print(coffee_reduced[coffee_reduced['drinks_coffee']== False].height.mean())\n",
    "coffee_reduced.index"
   ]
  },
  {
   "cell_type": "markdown",
   "id": "dac53027",
   "metadata": {},
   "source": [
    "### 2-gererate many samples from the sample (bootstrapping)"
   ]
  },
  {
   "cell_type": "code",
   "execution_count": 88,
   "id": "2eaf571e",
   "metadata": {},
   "outputs": [
    {
     "data": {
      "text/plain": [
       "True     0.605\n",
       "False    0.395\n",
       "Name: drinks_coffee, dtype: float64"
      ]
     },
     "execution_count": 88,
     "metadata": {},
     "output_type": "execute_result"
    }
   ],
   "source": [
    "# Simulate 200 \"new\" individuals from your original sample of 200. What are the proportion of coffee drinkers \n",
    "# in your bootstrap sample? How about individuals that don't drink coffee?\n",
    "sample=coffee_reduced.sample(200, replace=True)\n",
    "sample['drinks_coffee'].value_counts(normalize=True)"
   ]
  },
  {
   "cell_type": "code",
   "execution_count": 89,
   "id": "d9894d60",
   "metadata": {},
   "outputs": [
    {
     "name": "stdout",
     "output_type": "stream",
     "text": [
      "the distribution is centered around  66.7806168324155\n",
      "65.9929132815752 67.58402738281573\n"
     ]
    },
    {
     "data": {
      "image/png": "[encoded data removed]",
      "text/plain": [
       "<Figure size 432x288 with 1 Axes>"
      ]
     },
     "metadata": {
      "needs_background": "light"
     },
     "output_type": "display_data"
    }
   ],
   "source": [
    "# Now simulate your bootstrap sample 10,000 times and take the mean height of the non-coffee drinkers \n",
    "# in each sample. Each bootstrap sample should be from the very first sample of 200 data points. \n",
    "#What do you notice about the sampling distribution of the mean in this example?\n",
    "import matplotlib.pyplot as plt\n",
    "%matplotlib inline\n",
    "\n",
    "heights=[]\n",
    "for _ in range(int(1e4)):\n",
    "    sample=coffee_reduced.sample(200, replace=True)\n",
    "    heights.append(sample[sample['drinks_coffee']== False].height.mean())\n",
    "\n",
    "#Plot the distribution,\n",
    "plt.hist(heights);\n",
    "print('the distribution is centered around ',np.array(heights).mean())\n",
    "# and pull the values necessary for a 95% confidence interval. \n",
    "print(np.percentile(heights,2.5),np.percentile(heights,97.5))\n",
    "\n",
    "# np.median(np.arra[66.00385048056124,67.58307796942732])\n",
    "    \n"
   ]
  },
  {
   "cell_type": "markdown",
   "id": "a6ff3f93",
   "metadata": {},
   "source": [
    "### 3-calculate the sampling distribution for any statistic"
   ]
  },
  {
   "cell_type": "markdown",
   "id": "18f2f7d2",
   "metadata": {},
   "source": [
    "### 4-compare to the parameter"
   ]
  },
  {
   "cell_type": "code",
   "execution_count": 90,
   "id": "dddcf666",
   "metadata": {},
   "outputs": [
    {
     "name": "stdout",
     "output_type": "stream",
     "text": [
      "*the original parameter [the non-coffer drinkers average height] is:  66.78492279927877\n",
      "*the 95% confidence interval bounds for [non-coffee drinkers average height] is:  65.9929132815752 67.58402738281573\n"
     ]
    }
   ],
   "source": [
    "print ('*the original parameter [the non-coffer drinkers average height] is: ',coffee_reduced[coffee_reduced['drinks_coffee']== False].height.mean())\n",
    "\n",
    "print ('*the 95% confidence interval bounds for [non-coffee drinkers average height] is: ',np.percentile(heights,2.5),np.percentile(heights,97.5))\n",
    "\n"
   ]
  },
  {
   "cell_type": "code",
   "execution_count": 91,
   "id": "0ece0388",
   "metadata": {},
   "outputs": [
    {
     "name": "stdout",
     "output_type": "stream",
     "text": [
      "the original diff is:  0.9664368238484684\n"
     ]
    },
    {
     "data": {
      "text/plain": [
       "(-0.14783858216203263, 2.0648882646257816)"
      ]
     },
     "execution_count": 91,
     "metadata": {},
     "output_type": "execute_result"
    },
    {
     "data": {
      "image/png": "[encoded data removed]",
      "text/plain": [
       "<Figure size 432x288 with 1 Axes>"
      ]
     },
     "metadata": {
      "needs_background": "light"
     },
     "output_type": "display_data"
    }
   ],
   "source": [
    "# For 10,000 iterations, bootstrap sample your sample data, compute the difference in the average heights for coffee\n",
    "# and non-coffee drinkers. Build a 99% confidence interval using your sampling distribution. \n",
    "# Use your interval to start answering the first quiz question below.\n",
    "\n",
    "coffee_reduced = coffee_full.sample(200) #this is the only data you might actually get in the real world.\n",
    "cof_height_avg = coffee_reduced[coffee_reduced['drinks_coffee']== True].height.mean()\n",
    "non_cof_height_avg = coffee_reduced[coffee_reduced['drinks_coffee']== False].height.mean()\n",
    "diff= cof_height_avg - non_cof_height_avg\n",
    "print('the original diff is: ',diff)\n",
    "### bootstrap sample and get the statistic\n",
    "inference_diffs=[]\n",
    "for _ in range(10000):\n",
    "    sample=coffee_reduced.sample(200,replace=True)\n",
    "    inference_diffs.append( sample[sample['drinks_coffee']== True].height.mean()\n",
    "                            - sample[sample['drinks_coffee']== False].height.mean() )\n",
    "#plot the distribution\n",
    "plt.hist(inference_diffs)\n",
    "#print the 99% confidence bounds\n",
    "(np.percentile(inference_diffs,0.5),np.percentile(inference_diffs,99.5))\n",
    "    \n",
    "    "
   ]
  },
  {
   "cell_type": "code",
   "execution_count": 92,
   "id": "7816a579",
   "metadata": {},
   "outputs": [
    {
     "name": "stdout",
     "output_type": "stream",
     "text": [
      "the original diff is:  4.018279139630565\n"
     ]
    },
    {
     "data": {
      "text/plain": [
       "(3.180689987880211, 4.871827974944483)"
      ]
     },
     "execution_count": 92,
     "metadata": {},
     "output_type": "execute_result"
    },
    {
     "data": {
      "image/png": "[encoded data removed]",
      "text/plain": [
       "<Figure size 432x288 with 1 Axes>"
      ]
     },
     "metadata": {
      "needs_background": "light"
     },
     "output_type": "display_data"
    }
   ],
   "source": [
    "# For 10,000 iterations, bootstrap sample your sample data, compute the difference in the average heights \n",
    "# for those older than 21 and those younger than 21. Build a 99% confidence interval\n",
    "# using your sampling distribution.\n",
    "\n",
    "coffee_reduced = coffee_full.sample(200) #this is the only data you might actually get in the real world.\n",
    "less21_height_avg = coffee_reduced[coffee_reduced['age'] == \"<21\"].height.mean()\n",
    "more21_height_avg = coffee_reduced[coffee_reduced['age'] == \">=21\"].height.mean()\n",
    "diff= more21_height_avg - less21_height_avg\n",
    "print('the original diff is: ',diff)\n",
    "### bootstrap sample and get the statistic\n",
    "inference_diffs=[]\n",
    "for _ in range(10000):\n",
    "    sample=coffee_reduced.sample(200,replace=True)\n",
    "    inference_diffs.append( sample[sample['age'] == \">=21\"].height.mean()\n",
    "                            - sample[sample['age'] == \"<21\"].height.mean() )\n",
    "#plot the distribution\n",
    "plt.hist(inference_diffs)\n",
    "#print the 99% confidence bounds\n",
    "(np.percentile(inference_diffs,0.5),np.percentile(inference_diffs,99.5))"
   ]
  },
  {
   "cell_type": "code",
   "execution_count": 93,
   "id": "d54f0f90",
   "metadata": {},
   "outputs": [
    {
     "name": "stdout",
     "output_type": "stream",
     "text": [
      "the original diff is:  1.3759950364716502\n"
     ]
    },
    {
     "data": {
      "text/plain": [
       "(0.6611286302148791, 2.0777216720003957)"
      ]
     },
     "execution_count": 93,
     "metadata": {},
     "output_type": "execute_result"
    },
    {
     "data": {
      "image/png": "[encoded data removed]",
      "text/plain": [
       "<Figure size 432x288 with 1 Axes>"
      ]
     },
     "metadata": {
      "needs_background": "light"
     },
     "output_type": "display_data"
    }
   ],
   "source": [
    "# For 10,000 iterations bootstrap your sample data,compute the difference in the average height for coffee\n",
    "# drinkers and the average height for non-coffee drinkers for individuals under 21 years old.\n",
    "#Using your sampling distribution, build a 95% confidence interval. \n",
    "\n",
    "coffee_reduced = coffee_full.sample(200) #this is the only data you might actually get in the real world.\n",
    "cof_height_avg = coffee_reduced.query('age == \"<21\" and drinks_coffee == True').height.mean()\n",
    "non_cof_height_avg = coffee_reduced.query('age == \"<21\" and drinks_coffee == False').height.mean()\n",
    "diff= non_cof_height_avg - cof_height_avg \n",
    "print('the original diff is: ',diff)\n",
    "### bootstrap sample and get the statistic\n",
    "inference_diffs=[]\n",
    "for _ in range(10000):\n",
    "    sample=coffee_reduced.sample(200,replace=True)\n",
    "    inference_diffs.append( sample.query('age == \"<21\" and drinks_coffee == False').height.mean()\n",
    "                            - sample.query('age == \"<21\" and drinks_coffee == True').height.mean() )\n",
    "#plot the distribution\n",
    "plt.hist(inference_diffs)\n",
    "#print the 99% confidence bounds\n",
    "(np.percentile(inference_diffs,2.5),np.percentile(inference_diffs,97.5))"
   ]
  },
  {
   "cell_type": "code",
   "execution_count": 94,
   "id": "1eff5111",
   "metadata": {},
   "outputs": [
    {
     "name": "stdout",
     "output_type": "stream",
     "text": [
      "the original diff is:  1.9181425586128285\n"
     ]
    },
    {
     "data": {
      "text/plain": [
       "(0.6743882477633264, 3.0817241108569218)"
      ]
     },
     "execution_count": 94,
     "metadata": {},
     "output_type": "execute_result"
    },
    {
     "data": {
      "image/png": "[encoded data removed]",
      "text/plain": [
       "<Figure size 432x288 with 1 Axes>"
      ]
     },
     "metadata": {
      "needs_background": "light"
     },
     "output_type": "display_data"
    }
   ],
   "source": [
    "# For 10,000 iterations bootstrap your sample data, compute the difference in the average height for coffee drinkers\n",
    "# and the average height for non-coffee drinkers for individuals over 21 years old. \n",
    "#Using your sampling distribution, build a 95% confidence interval. \n",
    "\n",
    "coffee_reduced = coffee_full.sample(200) #this is the only data you might actually get in the real world.\n",
    "cof_height_avg = coffee_reduced.query('age == \">=21\" and drinks_coffee == True').height.mean()\n",
    "non_cof_height_avg = coffee_reduced.query('age == \">=21\" and drinks_coffee == False').height.mean()\n",
    "diff= non_cof_height_avg - cof_height_avg \n",
    "print('the original diff is: ',diff)\n",
    "### bootstrap sample and get the statistic\n",
    "inference_diffs=[]\n",
    "for _ in range(10000):\n",
    "    sample=coffee_reduced.sample(200,replace=True)\n",
    "    inference_diffs.append( sample.query('age == \">=21\" and drinks_coffee == False').height.mean()\n",
    "                            - sample.query('age == \">=21\" and drinks_coffee == True').height.mean() )\n",
    "#plot the distribution\n",
    "plt.hist(inference_diffs)\n",
    "#print the 99% confidence bounds\n",
    "(np.percentile(inference_diffs,2.5),np.percentile(inference_diffs,97.5))\n",
    "\n"
   ]
  },
  {
   "cell_type": "markdown",
   "id": "f2952c3e",
   "metadata": {},
   "source": [
    "### Uptill now we were using bootstrap sampling with sample distributions to get the confidence intervals but there is also the tradidtional ways to do it like \n",
    "* t-test for population mean\n",
    "* two sample t-test for comparing two means\n",
    "* paired t-test to compare individuals to themselves\n",
    "* z-test\n",
    "* f-test\n",
    "* CHI-Squared test\n",
    "\n",
    "### but the great thing about bootstrapping is it would work for any of those only given that the sample has a good representation of population\n"
   ]
  },
  {
   "cell_type": "markdown",
   "id": "98144849",
   "metadata": {},
   "source": [
    "### Compare bootstrabing to traditional ways"
   ]
  },
  {
   "cell_type": "markdown",
   "id": "066444ba",
   "metadata": {},
   "source": [
    "<p style=\"color:blue;font-size:25px\">Bootstrapping and sampling distribution</p>"
   ]
  },
  {
   "cell_type": "code",
   "execution_count": 111,
   "id": "ce256176",
   "metadata": {},
   "outputs": [
    {
     "data": {
      "text/plain": [
       "(0.3965686790909317, 2.243258868112464)"
      ]
     },
     "execution_count": 111,
     "metadata": {},
     "output_type": "execute_result"
    },
    {
     "data": {
      "image/png": "[encoded data removed]",
      "text/plain": [
       "<Figure size 432x288 with 1 Axes>"
      ]
     },
     "metadata": {
      "needs_background": "light"
     },
     "output_type": "display_data"
    }
   ],
   "source": [
    "# For 10,000 iterations, bootstrap sample your sample data, compute the difference in the average heights for coffee\n",
    "# and non-coffee drinkers. Build a 99% confidence interval using your sampling distribution. \n",
    "# Use your interval to start answering the first quiz question below.\n",
    "np.random.seed(42)\n",
    "\n",
    "coffee_reduced = coffee_full.sample(200) \n",
    "\n",
    "### bootstrap sample and get the statistic\n",
    "inference_diffs=[]\n",
    "for _ in range(10000):\n",
    "    sample=coffee_reduced.sample(200,replace=True)\n",
    "    mean_cof= sample[sample['drinks_coffee']== True].height.mean()\n",
    "    mean_nocof= sample[sample['drinks_coffee']== False].height.mean() \n",
    "    inference_diffs.append( mean_cof - mean_nocof)\n",
    "#plot the distribution\n",
    "plt.hist(inference_diffs)\n",
    "#print the 95% confidence bounds\n",
    "(np.percentile(inference_diffs,2.5),np.percentile(inference_diffs,97.5))\n",
    "    \n",
    "    "
   ]
  },
  {
   "cell_type": "markdown",
   "id": "e771cb2a",
   "metadata": {},
   "source": [
    "<p style=\"color:blue;font-size:25px\">traditional way t-test</p>"
   ]
  },
  {
   "cell_type": "code",
   "execution_count": 107,
   "id": "4c4e282d",
   "metadata": {},
   "outputs": [
    {
     "data": {
      "text/plain": [
       "(0.39600106159185633, 2.2734131570228913)"
      ]
     },
     "execution_count": 107,
     "metadata": {},
     "output_type": "execute_result"
    }
   ],
   "source": [
    "import statsmodels.stats.api as sms\n",
    "\n",
    "np.random.seed(42)\n",
    "\n",
    "\n",
    "X1= coffee_reduced[coffee_reduced['drinks_coffee']== True]['height']\n",
    "X2 = coffee_reduced[coffee_reduced['drinks_coffee']== False]['height']\n",
    "\n",
    "cm = sms.CompareMeans(sms.DescrStatsW(X1), sms.DescrStatsW(X2))\n",
    "cm.tconfint_diff(usevar='unequal') \n"
   ]
  },
  {
   "cell_type": "markdown",
   "id": "3e7496f0",
   "metadata": {},
   "source": [
    "### both are nearly identical"
   ]
  },
  {
   "cell_type": "code",
   "execution_count": null,
   "id": "d08fada1",
   "metadata": {},
   "outputs": [],
   "source": []
  }
 ],
 "metadata": {
  "kernelspec": {
   "display_name": "Python [conda env:anaconda3]",
   "language": "python",
   "name": "conda-env-anaconda3-py"
  },
  "language_info": {
   "codemirror_mode": {
    "name": "ipython",
    "version": 3
   },
   "file_extension": ".py",
   "mimetype": "text/x-python",
   "name": "python",
   "nbconvert_exporter": "python",
   "pygments_lexer": "ipython3",
   "version": "3.8.3"
  }
 },
 "nbformat": 4,
 "nbformat_minor": 5
}
