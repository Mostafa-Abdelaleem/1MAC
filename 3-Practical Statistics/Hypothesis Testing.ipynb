{
 "cells": [
  {
   "cell_type": "markdown",
   "id": "c7da68e0",
   "metadata": {},
   "source": [
    "# Hypothesis Testing\n",
    "## You can do it using one of two approaches\n",
    "### 1- bootstapring and confidence interval to check which hyposis is more likely\n",
    "### 2- simulate what we believe under null hyposis  and check if our data supports that\n",
    "Let's highlight the process:\n",
    "\n",
    "1-Simulate the values of your statistic that are possible from the null.    \n",
    "2-Calculate the value of the statistic you actually obtained in your data.    \n",
    "3-Compare your statistic to the values from the null.     \n",
    "4-Calculate the proportion of null values that are considered extreme based on your alternative.    \n",
    "\n",
    "\n",
    "\n",
    "pval ≤ α  ⇒ Reject H0\n",
    "\n",
    "pval > α  ⇒ Fail to Reject H0\n",
    "\n"
   ]
  },
  {
   "cell_type": "markdown",
   "id": "d8227281",
   "metadata": {},
   "source": [
    "### e.x: for all coffee data \n",
    "\n",
    "* null hyposis (the population mean height is less than 70) \n",
    "* alternative hyposis (the population mean height is more than 70) is actually true.\n",
    "\n",
    "$$H_0: \\mu < 70$$\n",
    "\n",
    "\n",
    "$$H_1: \\mu > 70$$"
   ]
  },
  {
   "cell_type": "code",
   "execution_count": 20,
   "id": "a381a14a",
   "metadata": {},
   "outputs": [
    {
     "data": {
      "text/html": [
       "<div>\n",
       "<style scoped>\n",
       "    .dataframe tbody tr th:only-of-type {\n",
       "        vertical-align: middle;\n",
       "    }\n",
       "\n",
       "    .dataframe tbody tr th {\n",
       "        vertical-align: top;\n",
       "    }\n",
       "\n",
       "    .dataframe thead th {\n",
       "        text-align: right;\n",
       "    }\n",
       "</style>\n",
       "<table border=\"1\" class=\"dataframe\">\n",
       "  <thead>\n",
       "    <tr style=\"text-align: right;\">\n",
       "      <th></th>\n",
       "      <th>user_id</th>\n",
       "      <th>age</th>\n",
       "      <th>drinks_coffee</th>\n",
       "      <th>height</th>\n",
       "    </tr>\n",
       "  </thead>\n",
       "  <tbody>\n",
       "    <tr>\n",
       "      <th>0</th>\n",
       "      <td>4509</td>\n",
       "      <td>&lt;21</td>\n",
       "      <td>False</td>\n",
       "      <td>64.538179</td>\n",
       "    </tr>\n",
       "    <tr>\n",
       "      <th>1</th>\n",
       "      <td>1864</td>\n",
       "      <td>&gt;=21</td>\n",
       "      <td>True</td>\n",
       "      <td>65.824249</td>\n",
       "    </tr>\n",
       "    <tr>\n",
       "      <th>2</th>\n",
       "      <td>2060</td>\n",
       "      <td>&lt;21</td>\n",
       "      <td>False</td>\n",
       "      <td>71.319854</td>\n",
       "    </tr>\n",
       "    <tr>\n",
       "      <th>3</th>\n",
       "      <td>7875</td>\n",
       "      <td>&gt;=21</td>\n",
       "      <td>True</td>\n",
       "      <td>68.569404</td>\n",
       "    </tr>\n",
       "    <tr>\n",
       "      <th>4</th>\n",
       "      <td>6254</td>\n",
       "      <td>&lt;21</td>\n",
       "      <td>True</td>\n",
       "      <td>64.020226</td>\n",
       "    </tr>\n",
       "  </tbody>\n",
       "</table>\n",
       "</div>"
      ],
      "text/plain": [
       "   user_id   age  drinks_coffee     height\n",
       "0     4509   <21          False  64.538179\n",
       "1     1864  >=21           True  65.824249\n",
       "2     2060   <21          False  71.319854\n",
       "3     7875  >=21           True  68.569404\n",
       "4     6254   <21           True  64.020226"
      ]
     },
     "execution_count": 20,
     "metadata": {},
     "output_type": "execute_result"
    }
   ],
   "source": [
    "import numpy as np\n",
    "import pandas as pd\n",
    "import matplotlib.pyplot as plt\n",
    "%matplotlib inline\n",
    "np.random.seed(42)\n",
    "df=pd.read_csv('coffee_dataset.csv')\n",
    "df.head()"
   ]
  },
  {
   "cell_type": "markdown",
   "id": "1473895c",
   "metadata": {},
   "source": [
    "<p style=\"color:blue;font-size:30px;\">Approch One</p>"
   ]
  },
  {
   "cell_type": "code",
   "execution_count": 21,
   "id": "c8cf8533",
   "metadata": {},
   "outputs": [
    {
     "data": {
      "image/png": "[encoded data removed]",
      "text/plain": [
       "<Figure size 432x288 with 1 Axes>"
      ]
     },
     "metadata": {
      "needs_background": "light"
     },
     "output_type": "display_data"
    }
   ],
   "source": [
    "#get sample from the population\n",
    "sample=df.sample(150)\n",
    "means=[]\n",
    "for _ in range(10000):\n",
    "    #bootstrap sample\n",
    "    bootsample=sample.sample(150,replace=True)\n",
    "    means.append(bootsample.height.mean())\n",
    "#plot sample distribution\n",
    "plt.hist(means);\n",
    "# 95%confidence levels\n",
    "lower,upper=np.percentile(means,2.5),np.percentile(means,97.5)\n",
    "plt.axvline(x=lower,color='r');\n",
    "plt.axvline(x=upper,color='r');\n",
    "\n",
    "# In the above case, our interval was entirely below 70,\n",
    "# which would suggest the null (the population mean is less than 70) is actually true."
   ]
  },
  {
   "cell_type": "markdown",
   "id": "1465d933",
   "metadata": {},
   "source": [
    "<p style=\"color:blue;font-size:30px;\">Approch Two: Simulating From the Null Hypothesis</p>\n",
    "\n",
    "Let's highlight the process:\n",
    "\n",
    "1-Simulate the values of your statistic that are possible from the null.    \n",
    "2-Calculate the value of the statistic you actually obtained in your data.    \n",
    "3-Compare your statistic to the values from the null.     \n",
    "4-Calculate the proportion of null values that are considered extreme based on your alternative.    \n",
    "\n",
    "\n",
    "\n",
    "pval ≤ α  ⇒ Reject H0\n",
    "\n",
    "pval > α  ⇒ Fail to Reject H0\n",
    "\n"
   ]
  },
  {
   "cell_type": "code",
   "execution_count": 29,
   "id": "3f7d1157",
   "metadata": {},
   "outputs": [
    {
     "data": {
      "text/plain": [
       "66.94989876063028"
      ]
     },
     "execution_count": 29,
     "metadata": {},
     "output_type": "execute_result"
    },
    {
     "data": {
      "image/png": "[encoded data removed]",
      "text/plain": [
       "<Figure size 432x288 with 1 Axes>"
      ]
     },
     "metadata": {
      "needs_background": "light"
     },
     "output_type": "display_data"
    }
   ],
   "source": [
    "#we assume that the H0 is true and test with the nearest point to h1 which is 70 in our case\n",
    "#get sample from the population\n",
    "sample=df.sample(150)\n",
    "\n",
    "means=[]\n",
    "for _ in range(10000):\n",
    "    #bootstrap sample\n",
    "    bootsample=sample.sample(150,replace=True)\n",
    "    means.append(bootsample.height.mean())\n",
    "#get std of means\n",
    "std=np.std(means)\n",
    "# now if we assume that the H0 is true then according to the centeral limit thorem the distribution \n",
    "# of sample distribution of the mean should be normal around 70\n",
    "\n",
    "#draw a normal distribution with mean 70 and std of the means\n",
    "vals=np.random.normal(70,std,10000)#generate values from the disstribution\n",
    "plt.hist(vals);\n",
    "\n",
    "#now test if the sample means falls in this distribution\n",
    "sample.height.mean()\n",
    "#it is suggested that we do not believe that our null hypothesis value of 70 would be supported, which is true. \n",
    "#However, since our null is that the population mean is less than or equal to 70, \n",
    "# we do have evidence to support this claim with our sample mean of approximately 67. \n",
    "# This would suggest not rejecting our one-sided null alternative.\n",
    "\n",
    "\n"
   ]
  },
  {
   "cell_type": "code",
   "execution_count": 30,
   "id": "507bac35",
   "metadata": {},
   "outputs": [
    {
     "data": {
      "text/plain": [
       "1.0"
      ]
     },
     "execution_count": 30,
     "metadata": {},
     "output_type": "execute_result"
    }
   ],
   "source": [
    "#calculate p-value\n",
    "#since h1 is mean > 70 then the p-vale = p(mean > sample mean | h0 is true)\n",
    "#h0 is true: assuming the normal distribution we simulated is the real distribution for the mean\n",
    "# p(mean > sample mean | h0 is true): is the area under curve where mean is > sample mean\n",
    "p_value=(vals > sample.height.mean()).mean() # as this means the number of all value bigger than sample mean by all values count\n",
    "p_value\n",
    "# p-value > alpa then Failed to reject h0"
   ]
  },
  {
   "cell_type": "markdown",
   "id": "618179db",
   "metadata": {},
   "source": [
    "### repeat for\n",
    "If you were interested in studying whether the average height for coffee drinkers is the same as for non-coffee drinkers, what would the null and alternative hypotheses be? \n",
    "**Since there is no directional component associated with this statement, a not equal to seems most reasonable.**\n",
    "​\n",
    "$$H_0: \\mu_{coff} - \\mu_{no} = 0$$\n",
    "​\n",
    "​\n",
    "$$H_1: \\mu_{coff} - \\mu_{no} \\neq 0$$\n",
    "​\n",
    "​\n",
    "**$\\mu_{coff}$ and $\\mu_{no}$ are the population mean values for coffee drinkers and non-coffee drinkers, respectivley.**"
   ]
  },
  {
   "cell_type": "code",
   "execution_count": 23,
   "id": "40e619cd",
   "metadata": {},
   "outputs": [
    {
     "name": "stdout",
     "output_type": "stream",
     "text": [
      "0.4238599489521492 \n",
      " 0.23110456880631763 \n",
      " 0.4788764946884775\n"
     ]
    },
    {
     "data": {
      "text/plain": [
       "<matplotlib.legend.Legend at 0x7ff199326f40>"
      ]
     },
     "execution_count": 23,
     "metadata": {},
     "output_type": "execute_result"
    },
    {
     "data": {
      "image/png": "[encoded data removed]",
      "text/plain": [
       "<Figure size 432x288 with 1 Axes>"
      ]
     },
     "metadata": {
      "needs_background": "light"
     },
     "output_type": "display_data"
    }
   ],
   "source": [
    "# Approch One\n",
    "nocoff_means, coff_means, diffs = [], [], []\n",
    "sample_data = df.sample(200)\n",
    "for _ in range(10000):\n",
    "    bootsamp = sample_data.sample(200, replace = True)\n",
    "    coff_mean = bootsamp[bootsamp['drinks_coffee'] == True]['height'].mean()\n",
    "    nocoff_mean = bootsamp[bootsamp['drinks_coffee'] == False]['height'].mean()\n",
    "    # append the info \n",
    "    coff_means.append(coff_mean)\n",
    "    nocoff_means.append(nocoff_mean)\n",
    "    diffs.append(coff_mean - nocoff_mean)   \n",
    "print(np.std(nocoff_means),'\\n',np.std(coff_means),'\\n',np.std(diffs))   \n",
    "plt.hist(nocoff_means, alpha = 0.5,label=\"nocoff\");\n",
    "plt.hist(coff_means, alpha = 0.5,label=\"coff\");\n",
    "plt.legend()\n"
   ]
  },
  {
   "cell_type": "code",
   "execution_count": 24,
   "id": "425c3be9",
   "metadata": {},
   "outputs": [
    {
     "data": {
      "image/png": "[encoded data removed]",
      "text/plain": [
       "<Figure size 432x288 with 1 Axes>"
      ]
     },
     "metadata": {
      "needs_background": "light"
     },
     "output_type": "display_data"
    }
   ],
   "source": [
    "plt.hist(diffs, alpha = 0.5,label=\"diff\");"
   ]
  },
  {
   "cell_type": "code",
   "execution_count": 25,
   "id": "81f3f698",
   "metadata": {},
   "outputs": [
    {
     "data": {
      "text/plain": [
       "1.941142785172005"
      ]
     },
     "execution_count": 25,
     "metadata": {},
     "output_type": "execute_result"
    },
    {
     "data": {
      "image/png": "[encoded data removed]",
      "text/plain": [
       "<Figure size 432x288 with 1 Axes>"
      ]
     },
     "metadata": {
      "needs_background": "light"
     },
     "output_type": "display_data"
    }
   ],
   "source": [
    "# Approch Two\n",
    "null_vals = np.random.normal(0, np.std(diffs), 10000) # Here are 10000 draws from the sampling distribution under the null\n",
    "plt.hist(null_vals); #Here is the sampling distribution of the difference under the null\n",
    "#difference of means in sample data\n",
    "sample_data[sample_data['drinks_coffee'] == True]['height'].mean() - sample_data[sample_data['drinks_coffee'] == False]['height'].mean()\n",
    "\n",
    "#we can reject h0 since the sample statistic doesn't fall in the noraml distribution of what whould the data be if H0 is true"
   ]
  },
  {
   "cell_type": "markdown",
   "id": "439d88d3",
   "metadata": {},
   "source": [
    "### Calculating Errors\n",
    "\n",
    "Here are two datasets that represent two of the examples you have seen in this lesson.  \n",
    "\n",
    "One dataset is based on the parachute example, and the second is based on the judicial example.  Neither of these datasets is based on real people.\n",
    "\n",
    "Use the exercises below to assist in answering the quiz questions at the bottom of this page."
   ]
  },
  {
   "cell_type": "code",
   "execution_count": 76,
   "id": "bc958cdb",
   "metadata": {},
   "outputs": [
    {
     "data": {
      "text/html": [
       "<div>\n",
       "<style scoped>\n",
       "    .dataframe tbody tr th:only-of-type {\n",
       "        vertical-align: middle;\n",
       "    }\n",
       "\n",
       "    .dataframe tbody tr th {\n",
       "        vertical-align: top;\n",
       "    }\n",
       "\n",
       "    .dataframe thead th {\n",
       "        text-align: right;\n",
       "    }\n",
       "</style>\n",
       "<table border=\"1\" class=\"dataframe\">\n",
       "  <thead>\n",
       "    <tr style=\"text-align: right;\">\n",
       "      <th></th>\n",
       "      <th>defendant_id</th>\n",
       "      <th>actual</th>\n",
       "      <th>predicted</th>\n",
       "    </tr>\n",
       "  </thead>\n",
       "  <tbody>\n",
       "    <tr>\n",
       "      <th>0</th>\n",
       "      <td>22574</td>\n",
       "      <td>innocent</td>\n",
       "      <td>innocent</td>\n",
       "    </tr>\n",
       "    <tr>\n",
       "      <th>1</th>\n",
       "      <td>35637</td>\n",
       "      <td>innocent</td>\n",
       "      <td>innocent</td>\n",
       "    </tr>\n",
       "    <tr>\n",
       "      <th>2</th>\n",
       "      <td>39919</td>\n",
       "      <td>innocent</td>\n",
       "      <td>innocent</td>\n",
       "    </tr>\n",
       "    <tr>\n",
       "      <th>3</th>\n",
       "      <td>29610</td>\n",
       "      <td>guilty</td>\n",
       "      <td>guilty</td>\n",
       "    </tr>\n",
       "    <tr>\n",
       "      <th>4</th>\n",
       "      <td>38273</td>\n",
       "      <td>innocent</td>\n",
       "      <td>innocent</td>\n",
       "    </tr>\n",
       "  </tbody>\n",
       "</table>\n",
       "</div>"
      ],
      "text/plain": [
       "   defendant_id    actual predicted\n",
       "0         22574  innocent  innocent\n",
       "1         35637  innocent  innocent\n",
       "2         39919  innocent  innocent\n",
       "3         29610    guilty    guilty\n",
       "4         38273  innocent  innocent"
      ]
     },
     "metadata": {},
     "output_type": "display_data"
    },
    {
     "data": {
      "text/plain": [
       "array(['opens', 'fails'], dtype=object)"
      ]
     },
     "execution_count": 76,
     "metadata": {},
     "output_type": "execute_result"
    }
   ],
   "source": [
    "import numpy as np\n",
    "import pandas as pd\n",
    "\n",
    "jud_data = pd.read_csv('judicial_dataset_predictions.csv')\n",
    "par_data = pd.read_csv('parachute_dataset.csv')\n",
    "display(jud_data.head())\n",
    "par_data.head()\n",
    "par_data.actual.unique()"
   ]
  },
  {
   "cell_type": "code",
   "execution_count": 70,
   "id": "7a97cfdd",
   "metadata": {},
   "outputs": [
    {
     "data": {
      "text/plain": [
       "0.042152958945489497"
      ]
     },
     "metadata": {},
     "output_type": "display_data"
    },
    {
     "data": {
      "text/plain": [
       "(0.001510366607167376, 0.04064259233832212)"
      ]
     },
     "execution_count": 70,
     "metadata": {},
     "output_type": "execute_result"
    }
   ],
   "source": [
    "# you can see the actual and predicted columns for each of the datasets. Using the jud_data, \n",
    "#find the proportion of errors for the dataset, and furthermore, the percentage of errors of each type.\n",
    "\n",
    "display( (jud_data.actual != jud_data.predicted).mean() )\n",
    "false_positive =  ( (jud_data['predicted'] == 'guilty') & (jud_data['actual'] == 'innocent') ).mean()\n",
    "false_negative =  ( (jud_data.predicted == 'innocent') & (jud_data.actual == 'guilty') ).mean()\n",
    "false_positive,false_negative\n"
   ]
  },
  {
   "cell_type": "code",
   "execution_count": 78,
   "id": "a0c07409",
   "metadata": {},
   "outputs": [
    {
     "data": {
      "text/plain": [
       "0.039972551037913875"
      ]
     },
     "metadata": {},
     "output_type": "display_data"
    },
    {
     "data": {
      "text/plain": [
       "(0.00017155601303825698, 0.03980099502487562)"
      ]
     },
     "execution_count": 78,
     "metadata": {},
     "output_type": "execute_result"
    }
   ],
   "source": [
    "# Using the par_data, find the proportion of errors for the dataset, and furthermore, \n",
    "# the percentage of errors of each type.\n",
    "display( (par_data.actual != par_data.predicted).mean() )\n",
    "false_positive =  ( (par_data['predicted'] == 'opens') & (par_data['actual'] == 'fails') ).mean()\n",
    "false_negative =  ( (par_data.predicted == 'fails') & (par_data.actual == 'opens') ).mean()\n",
    "false_positive,false_negative\n"
   ]
  },
  {
   "cell_type": "markdown",
   "id": "42e6e57c",
   "metadata": {},
   "source": [
    "### The Impact of Large Sample Sizes\n",
    "\n",
    "When we increase our sample size, even the smallest of differences may seem significant.  \n",
    "\n",
    "To illustrate this point, work through this notebook and the quiz questions that follow below.\n",
    "\n",
    "Start by reading in the libraries and data."
   ]
  },
  {
   "cell_type": "code",
   "execution_count": 122,
   "id": "c9cf9f88",
   "metadata": {},
   "outputs": [],
   "source": [
    "import pandas as pd\n",
    "import numpy as np\n",
    "import matplotlib.pyplot as plt\n",
    "\n",
    "%matplotlib inline\n",
    "np.random.seed(42)\n",
    "\n",
    "full_data = pd.read_csv('coffee_dataset.csv')"
   ]
  },
  {
   "cell_type": "code",
   "execution_count": 123,
   "id": "93fd5afc",
   "metadata": {},
   "outputs": [],
   "source": [
    "#In this case, imagine we are interested in testing if the mean height of all individuals in full_data is \n",
    "# equal to 67.60 inches or different than 67.60.  state the null and alternative hypotheses for these cases in the cell below.\n",
    "# h0 : muo = 67.60  ,  h1: muo != 67.60\n"
   ]
  },
  {
   "cell_type": "markdown",
   "id": "6021f96c",
   "metadata": {},
   "source": [
    "Find:\n",
    "\n",
    "1-What is the population mean height?    \n",
    "2-What is the standard deviation of the population heights? Create a sample set of data using the code below.    \n",
    "3-What is the sample mean height? Simulate the sampling distribution for the mean of five values to see the shape and    plot a histogram.    \n",
    "4-What is the standard deviation of the sampling distribution of the mean of five draws? "
   ]
  },
  {
   "cell_type": "code",
   "execution_count": 142,
   "id": "0f2223ad",
   "metadata": {},
   "outputs": [
    {
     "data": {
      "text/plain": [
       "67.59748697307937"
      ]
     },
     "metadata": {},
     "output_type": "display_data"
    },
    {
     "data": {
      "text/plain": [
       "3.119433206550344"
      ]
     },
     "metadata": {},
     "output_type": "display_data"
    },
    {
     "data": {
      "text/plain": [
       "67.88234252049084"
      ]
     },
     "metadata": {},
     "output_type": "display_data"
    },
    {
     "data": {
      "text/plain": [
       "1.141357351999374"
      ]
     },
     "metadata": {},
     "output_type": "display_data"
    },
    {
     "data": {
      "image/png": "[encoded data removed]",
      "text/plain": [
       "<Figure size 432x288 with 1 Axes>"
      ]
     },
     "metadata": {
      "needs_background": "light"
     },
     "output_type": "display_data"
    }
   ],
   "source": [
    "import matplotlib.pyplot as plt\n",
    "%matplotlib inline\n",
    "np.random.seed(42)\n",
    "\n",
    "# 1  \n",
    "display(full_data.height.mean())\n",
    "# 2\n",
    "display(full_data.height.std())\n",
    "sample1 = full_data.sample(5)\n",
    "# 3 \n",
    "display(sample1.height.mean())\n",
    "means=[]\n",
    "for _ in range(10000):\n",
    "    sample=sample1.sample(5,replace=True)\n",
    "    means.append(sample.height.mean())\n",
    "    \n",
    "plt.hist(means)\n",
    "# 4\n",
    "display(np.std(means))\n",
    "\n",
    "#or \n",
    "std_sampling_dist = full_data.height.std()/np.sqrt(5)  \n",
    "\n",
    "    "
   ]
  },
  {
   "cell_type": "code",
   "execution_count": 143,
   "id": "0179dbab",
   "metadata": {},
   "outputs": [
    {
     "data": {
      "text/plain": [
       "67.31765747950915"
      ]
     },
     "metadata": {},
     "output_type": "display_data"
    },
    {
     "data": {
      "text/plain": [
       "67.88234252049084"
      ]
     },
     "metadata": {},
     "output_type": "display_data"
    },
    {
     "data": {
      "text/plain": [
       "0.804"
      ]
     },
     "execution_count": 143,
     "metadata": {},
     "output_type": "execute_result"
    },
    {
     "data": {
      "image/png": "[encoded data removed]",
      "text/plain": [
       "<Figure size 432x288 with 1 Axes>"
      ]
     },
     "metadata": {
      "needs_background": "light"
     },
     "output_type": "display_data"
    }
   ],
   "source": [
    "#Using the null and alternative hypotheses \n",
    "# h0 : muo = 67.60  ,  h1: muo != 67.60\n",
    "# and the results of your sampling distribution\n",
    "# simulate the mean values you would expect from the null hypothesis.\n",
    "#Use these simulated values to determine a p-value to make a decision about your null and alternative hypotheses.\n",
    "observed_mean=sample1.height.mean()\n",
    "# simulate null distribution\n",
    "null_vals=np.random.normal(67.6,np.std(means),1000)\n",
    "plt.hist(null_vals);\n",
    "plt.axvline(67.6,color='r')\n",
    "#calculate p-value\n",
    "upper_bound=observed_mean\n",
    "lower_bound= 67.6 - ( observed_mean - 67.6)\n",
    "display(lower_bound,upper_bound)\n",
    "(sum(null_vals > observed_mean) + sum(null_vals < lower_bound) )/len(null_vals)\n",
    "# sample1.height.mean()"
   ]
  },
  {
   "cell_type": "markdown",
   "id": "9db0399f",
   "metadata": {},
   "source": [
    "`4.` Now imagine if you received the same sample mean as you calculated from the sample in question 1 above, but that you actually retrieved it from a sample of 300.  What would the new standard deviation be for your sampling distribution for the mean of 300 values?  Additionally, what would your new p-value be for choosing between the null and alternative hypotheses you set up? Simulate the sampling distribution for the mean of five values to see the shape and plot a histogram. \n",
    "\n",
    "**Hint:**  If you get stuck, notice you can use the solution from quiz regarding finding the p-value earlier to assist with obtaining this answer with just a few small changes."
   ]
  },
  {
   "cell_type": "code",
   "execution_count": 204,
   "id": "31438f25",
   "metadata": {},
   "outputs": [
    {
     "data": {
      "text/plain": [
       "67.63939729514867"
      ]
     },
     "metadata": {},
     "output_type": "display_data"
    },
    {
     "data": {
      "text/plain": [
       "0.08258456101712124"
      ]
     },
     "metadata": {},
     "output_type": "display_data"
    },
    {
     "data": {
      "text/plain": [
       "(2974, 4)"
      ]
     },
     "execution_count": 204,
     "metadata": {},
     "output_type": "execute_result"
    }
   ],
   "source": [
    "np.random.seed(42)\n",
    "null_mean=67.6\n",
    "sample1 = full_data.sample(1500)\n",
    "obs_mean=sample1.height.mean()\n",
    "display(obs_mean)\n",
    "means=[]\n",
    "for _ in range(10000):\n",
    "    sample=sample1.sample(1500,replace=True)\n",
    "    means.append(sample.height.mean())\n",
    "    \n",
    "# plt.hist(means)\n",
    "# 4\n",
    "display(np.std(means))\n",
    "\n",
    "#or \n",
    "# std_sampling_dist = full_data.height.std()/np.sqrt(300)  \n",
    "\n",
    "#Using the null and alternative hypotheses \n",
    "# h0 : muo = 67.60  ,  h1: muo != 67.60\n",
    "# and the results of your sampling distribution\n",
    "# simulate the mean values you would expect from the null hypothesis.\n",
    "#Use these simulated values to determine a p-value to make a decision about your null and alternative hypotheses.\n",
    "# simulate null distribution\n",
    "null_vals=np.random.normal(null_mean,np.std(means),10000)#300 sample\n",
    "\n",
    "\n",
    "\n",
    "#calculate p-value\n",
    "upper_bound=obs_mean\n",
    "lower_bound= null_mean - ( obs_mean - null_mean)\n",
    "pval=(sum(null_vals > upper_bound)  + sum(null_vals < lower_bound) )/len(null_vals)\n",
    "pval\n",
    "full_data.shape"
   ]
  },
  {
   "cell_type": "code",
   "execution_count": 156,
   "id": "107e08ea",
   "metadata": {},
   "outputs": [
    {
     "data": {
      "text/plain": [
       "<matplotlib.legend.Legend at 0x7ff188339220>"
      ]
     },
     "execution_count": 156,
     "metadata": {},
     "output_type": "execute_result"
    },
    {
     "data": {
      "image/png": "[encoded data removed]",
      "text/plain": [
       "<Figure size 432x288 with 1 Axes>"
      ]
     },
     "metadata": {
      "needs_background": "light"
     },
     "output_type": "display_data"
    }
   ],
   "source": [
    "null_vals=np.random.normal(null_mean,np.std(means),10000)#300 sample\n",
    "null_vals1=np.random.normal(null_mean,std_sampling_dist,10000)#5 sample\n",
    "\n",
    "plt.hist(null_vals1,alpha=0.5,label='5samples');\n",
    "plt.hist(null_vals,alpha=0.5,label='300samples');\n",
    "plt.legend();\n",
    "#very clear that larger sample leads to lower std(lower valriation) which means more certainty"
   ]
  },
  {
   "cell_type": "markdown",
   "id": "08871e74",
   "metadata": {},
   "source": [
    "### Multiple Tests\n",
    "\n",
    "In this notebook, you will work with a similar dataset to the judicial dataset you were working with before.  However, instead of working with decisions already being provided, you are provided with a p-value associated with each individual.  \n",
    "\n",
    "Use the questions in the notebook and the dataset to answer the questions at the bottom of this page.\n",
    "\n",
    "Here is a glimpse of the data you will be working with:"
   ]
  },
  {
   "cell_type": "code",
   "execution_count": 179,
   "id": "18c41c6c",
   "metadata": {},
   "outputs": [
    {
     "data": {
      "text/html": [
       "<div>\n",
       "<style scoped>\n",
       "    .dataframe tbody tr th:only-of-type {\n",
       "        vertical-align: middle;\n",
       "    }\n",
       "\n",
       "    .dataframe tbody tr th {\n",
       "        vertical-align: top;\n",
       "    }\n",
       "\n",
       "    .dataframe thead th {\n",
       "        text-align: right;\n",
       "    }\n",
       "</style>\n",
       "<table border=\"1\" class=\"dataframe\">\n",
       "  <thead>\n",
       "    <tr style=\"text-align: right;\">\n",
       "      <th></th>\n",
       "      <th>defendant_id</th>\n",
       "      <th>actual</th>\n",
       "      <th>pvalue</th>\n",
       "    </tr>\n",
       "  </thead>\n",
       "  <tbody>\n",
       "    <tr>\n",
       "      <th>0</th>\n",
       "      <td>22574</td>\n",
       "      <td>innocent</td>\n",
       "      <td>0.294126</td>\n",
       "    </tr>\n",
       "    <tr>\n",
       "      <th>1</th>\n",
       "      <td>35637</td>\n",
       "      <td>innocent</td>\n",
       "      <td>0.417981</td>\n",
       "    </tr>\n",
       "    <tr>\n",
       "      <th>2</th>\n",
       "      <td>39919</td>\n",
       "      <td>innocent</td>\n",
       "      <td>0.177542</td>\n",
       "    </tr>\n",
       "    <tr>\n",
       "      <th>3</th>\n",
       "      <td>29610</td>\n",
       "      <td>guilty</td>\n",
       "      <td>0.015023</td>\n",
       "    </tr>\n",
       "    <tr>\n",
       "      <th>4</th>\n",
       "      <td>38273</td>\n",
       "      <td>innocent</td>\n",
       "      <td>0.075371</td>\n",
       "    </tr>\n",
       "  </tbody>\n",
       "</table>\n",
       "</div>"
      ],
      "text/plain": [
       "   defendant_id    actual    pvalue\n",
       "0         22574  innocent  0.294126\n",
       "1         35637  innocent  0.417981\n",
       "2         39919  innocent  0.177542\n",
       "3         29610    guilty  0.015023\n",
       "4         38273  innocent  0.075371"
      ]
     },
     "execution_count": 179,
     "metadata": {},
     "output_type": "execute_result"
    }
   ],
   "source": [
    "import numpy as np\n",
    "import pandas as pd\n",
    "\n",
    "df = pd.read_csv('judicial_dataset_pvalues.csv')\n",
    "df.head()\n",
    "# df.shape[0]"
   ]
  },
  {
   "cell_type": "code",
   "execution_count": 193,
   "id": "c7bafb03",
   "metadata": {},
   "outputs": [
    {
     "data": {
      "text/plain": [
       "6.86530275985171e-06"
      ]
     },
     "execution_count": 193,
     "metadata": {},
     "output_type": "execute_result"
    }
   ],
   "source": [
    ".05/df.shape[0]"
   ]
  },
  {
   "cell_type": "code",
   "execution_count": 192,
   "id": "eb7dd388",
   "metadata": {},
   "outputs": [
    {
     "data": {
      "text/plain": [
       "0.001510366607167376"
      ]
     },
     "execution_count": 192,
     "metadata": {},
     "output_type": "execute_result"
    }
   ],
   "source": [
    "df.query(\"actual == 'innocent' and pvalue < 0.05\").count()[0]/df.shape[0] # If not used"
   ]
  },
  {
   "cell_type": "code",
   "execution_count": 194,
   "id": "5eafa59d",
   "metadata": {},
   "outputs": [
    {
     "data": {
      "text/plain": [
       "0.0"
      ]
     },
     "execution_count": 194,
     "metadata": {},
     "output_type": "execute_result"
    }
   ],
   "source": [
    "(df.pvalue <= (.05/df.shape[0])).mean()"
   ]
  },
  {
   "cell_type": "code",
   "execution_count": null,
   "id": "1c4dca44",
   "metadata": {},
   "outputs": [],
   "source": []
  }
 ],
 "metadata": {
  "kernelspec": {
   "display_name": "Python [conda env:anaconda3]",
   "language": "python",
   "name": "conda-env-anaconda3-py"
  },
  "language_info": {
   "codemirror_mode": {
    "name": "ipython",
    "version": 3
   },
   "file_extension": ".py",
   "mimetype": "text/x-python",
   "name": "python",
   "nbconvert_exporter": "python",
   "pygments_lexer": "ipython3",
   "version": "3.8.3"
  }
 },
 "nbformat": 4,
 "nbformat_minor": 5
}
