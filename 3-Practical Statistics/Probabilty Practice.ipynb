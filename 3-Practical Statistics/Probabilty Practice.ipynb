{
 "cells": [
  {
   "cell_type": "markdown",
   "id": "d130ce64",
   "metadata": {},
   "source": [
    "<p style='font-size:30px;color:red;text-align:center'> Probabilty Practice </p>"
   ]
  },
  {
   "cell_type": "markdown",
   "id": "03947c6d",
   "metadata": {},
   "source": [
    "# Coin Flips and Die Rolls\n",
    "Use NumPy to create simulations and compute proportions for the following outcomes. The first one is done for you.\n",
    "\n",
    "**Please note again that we are using 0 to represent heads, and 1 to represent tails.**"
   ]
  },
  {
   "cell_type": "code",
   "execution_count": 67,
   "id": "60d0eb31",
   "metadata": {},
   "outputs": [],
   "source": [
    "import numpy as np"
   ]
  },
  {
   "cell_type": "code",
   "execution_count": 68,
   "id": "88c3d710",
   "metadata": {},
   "outputs": [
    {
     "name": "stdout",
     "output_type": "stream",
     "text": [
      "1 [1 1 0 ... 0 1 0] 0.49983\n"
     ]
    }
   ],
   "source": [
    "#simulate a fair coin flip\n",
    "print(\n",
    "    np.random.randint(2),#create a random int from a lower bound inclusive (default is zero) and upper bound exclusive\n",
    "    np.random.randint(2,size=int(1e6)),\n",
    "    np.random.randint(2,size=int(1e6)).mean()\n",
    "    )"
   ]
  },
  {
   "cell_type": "code",
   "execution_count": 69,
   "id": "9f8f2b97",
   "metadata": {},
   "outputs": [
    {
     "data": {
      "text/plain": [
       "0.1968"
      ]
     },
     "execution_count": 69,
     "metadata": {},
     "output_type": "execute_result"
    }
   ],
   "source": [
    "#simulate a loaded coin flip\n",
    "np.random.choice([0,1],p=[0.8,.2],size=10000)#choose a random value from giving values with the probabiliy for each value given\n",
    "np.random.choice([0,1],p=[0.8,.2],size=10000).mean()\n",
    "\n"
   ]
  },
  {
   "cell_type": "markdown",
   "id": "0b76db82",
   "metadata": {},
   "source": [
    "## 1. Two fair coin flips produce exactly two heads"
   ]
  },
  {
   "cell_type": "code",
   "execution_count": 70,
   "id": "bee8bbca",
   "metadata": {},
   "outputs": [
    {
     "name": "stdout",
     "output_type": "stream",
     "text": [
      "tests: [[1 1]\n",
      " [0 1]\n",
      " [0 0]\n",
      " ...\n",
      " [1 1]\n",
      " [1 0]\n",
      " [0 0]]\n",
      "test_sums: [2 1 0 ... 2 1 0]\n"
     ]
    },
    {
     "data": {
      "text/plain": [
       "0.250191"
      ]
     },
     "execution_count": 70,
     "metadata": {},
     "output_type": "execute_result"
    }
   ],
   "source": [
    "# simulate 1 million tests of two fair coin flips\n",
    "tests = np.random.randint(2, size=(int(1e6), 2))\n",
    "print('tests:',tests)\n",
    "# sums of all tests\n",
    "test_sums = tests.sum(axis=1)\n",
    "print('test_sums:',test_sums )\n",
    "# proportion of tests that produced exactly two heads\n",
    "(test_sums == 0).mean()"
   ]
  },
  {
   "cell_type": "markdown",
   "id": "1586069f",
   "metadata": {},
   "source": [
    "## 2. Three fair coin flips produce exactly one head"
   ]
  },
  {
   "cell_type": "code",
   "execution_count": 71,
   "id": "0b0638a8",
   "metadata": {},
   "outputs": [
    {
     "name": "stdout",
     "output_type": "stream",
     "text": [
      "tests: [[1 1 1]\n",
      " [0 0 0]\n",
      " [1 1 0]\n",
      " ...\n",
      " [1 1 1]\n",
      " [1 1 0]\n",
      " [0 0 1]]\n",
      "test_sums: [3 0 2 ... 3 2 1]\n"
     ]
    },
    {
     "data": {
      "text/plain": [
       "0.374725"
      ]
     },
     "execution_count": 71,
     "metadata": {},
     "output_type": "execute_result"
    }
   ],
   "source": [
    "# simulate 1 million tests of three fair coin flips\n",
    "tests=np.random.randint( 2,size=(int(1e6),3) )\n",
    "print('tests:',tests)\n",
    "# sums of all tests\n",
    "test_sums = tests.sum(axis=1)\n",
    "print('test_sums:',test_sums )\n",
    "# proportion of tests that produced exactly one head\n",
    "(test_sums == 1).mean()"
   ]
  },
  {
   "cell_type": "markdown",
   "id": "ad011735",
   "metadata": {},
   "source": [
    "## 3. Three biased coin flips with P(H) = 0.6 produce exactly one head"
   ]
  },
  {
   "cell_type": "code",
   "execution_count": 72,
   "id": "ec91eda3",
   "metadata": {},
   "outputs": [
    {
     "name": "stdout",
     "output_type": "stream",
     "text": [
      "[[0 1 0]\n",
      " [0 0 0]\n",
      " [0 1 0]\n",
      " ...\n",
      " [1 0 1]\n",
      " [0 1 0]\n",
      " [0 0 1]]\n",
      "[1 0 1 ... 2 1 1]\n"
     ]
    },
    {
     "data": {
      "text/plain": [
       "0.287891"
      ]
     },
     "execution_count": 72,
     "metadata": {},
     "output_type": "execute_result"
    }
   ],
   "source": [
    "# simulate 1 million tests of three biased coin flips\n",
    "# hint: use np.random.choice()\n",
    "tests = np.random.choice([0,1],p=[0.6,0.4],size=(int(1e6),3))\n",
    "print(tests)\n",
    "\n",
    "# sums of all tests\n",
    "test_sums = tests.sum(axis=1)\n",
    "print(test_sums)\n",
    "\n",
    "# proportion of tests that produced exactly one head\n",
    "(test_sums == 2).mean()"
   ]
  },
  {
   "cell_type": "markdown",
   "id": "76b13616",
   "metadata": {},
   "source": [
    "## 4. A die rolls an even number"
   ]
  },
  {
   "cell_type": "code",
   "execution_count": 73,
   "id": "b37ec5f1",
   "metadata": {},
   "outputs": [
    {
     "name": "stdout",
     "output_type": "stream",
     "text": [
      "[6 3 3 ... 2 4 3]\n"
     ]
    },
    {
     "data": {
      "text/plain": [
       "0.499866"
      ]
     },
     "execution_count": 73,
     "metadata": {},
     "output_type": "execute_result"
    }
   ],
   "source": [
    "# simulate 1 million tests of one die roll\n",
    "tests = np.random.randint(1,7,size=(int(1e6)))\n",
    "print(tests)\n",
    "# proportion of tests that produced an even number\n",
    "(tests%2==0).mean()"
   ]
  },
  {
   "cell_type": "markdown",
   "id": "339e11c3",
   "metadata": {},
   "source": [
    "## 5. Two dice roll a double"
   ]
  },
  {
   "cell_type": "code",
   "execution_count": 74,
   "id": "a02de871",
   "metadata": {},
   "outputs": [
    {
     "data": {
      "text/plain": [
       "0.167298"
      ]
     },
     "execution_count": 74,
     "metadata": {},
     "output_type": "execute_result"
    }
   ],
   "source": [
    "# simulate the first million die rolls\n",
    "first = np.random.randint(1,7,size=(int(1e6)))\n",
    "\n",
    "\n",
    "# simulate the second million die rolls\n",
    "second = np.random.randint(1,7,size=(int(1e6)))\n",
    "\n",
    "# proportion of tests where the 1st and 2nd die rolled the same number\n",
    "(first == second).mean()"
   ]
  },
  {
   "cell_type": "markdown",
   "id": "0bd823d2",
   "metadata": {},
   "source": [
    "# Binomial Distributions\n",
    "Use NumPy to create simulations and compute proportions for the following outcomes. The first one is done for you."
   ]
  },
  {
   "cell_type": "code",
   "execution_count": 75,
   "id": "166e0a0a",
   "metadata": {},
   "outputs": [
    {
     "name": "stdout",
     "output_type": "stream",
     "text": [
      "5\n",
      "[4 3 3 4 2 8 6 4 5 3 4 5 6 4 2 5 5 3 3 4]\n",
      "4.6\n"
     ]
    },
    {
     "data": {
      "text/plain": [
       "4.998852"
      ]
     },
     "execution_count": 75,
     "metadata": {},
     "output_type": "execute_result"
    }
   ],
   "source": [
    "# number of heads from 10 fair coin flips\n",
    "print(np.random.binomial(10, 0.5))#return number of successes for n (10) number of tests with p (0.5) probabilty of success\n",
    "# results from 20 tests with 10 coin flips\n",
    "print(np.random.binomial(10, 0.5, 20))\n",
    "# mean number of heads from the 20 tests\n",
    "print(np.random.binomial(10, 0.5, 20).mean())\n",
    "# reflects the fairness of the coin more closely as # tests increases\n",
    "np.random.binomial(10, 0.5, 1000000).mean()"
   ]
  },
  {
   "cell_type": "code",
   "execution_count": 76,
   "id": "81b401f2",
   "metadata": {},
   "outputs": [
    {
     "data": {
      "image/png": "[encoded data removed]",
      "text/plain": [
       "<Figure size 432x288 with 1 Axes>"
      ]
     },
     "metadata": {
      "needs_background": "light"
     },
     "output_type": "display_data"
    }
   ],
   "source": [
    "import matplotlib.pyplot as plt\n",
    "%matplotlib inline\n",
    "plt.hist(np.random.binomial(10, 0.5, 1000000));"
   ]
  },
  {
   "cell_type": "code",
   "execution_count": 77,
   "id": "5cddcfd3",
   "metadata": {},
   "outputs": [
    {
     "data": {
      "image/png": "[encoded data removed]",
      "text/plain": [
       "<Figure size 432x288 with 1 Axes>"
      ]
     },
     "metadata": {
      "needs_background": "light"
     },
     "output_type": "display_data"
    }
   ],
   "source": [
    "# gets more narrow as number of flips increase per test\n",
    "plt.hist(np.random.binomial(100, 0.5, 1000000));"
   ]
  },
  {
   "cell_type": "markdown",
   "id": "6ba44a7a",
   "metadata": {},
   "source": [
    "### 1. A fair coin flip produces heads"
   ]
  },
  {
   "cell_type": "code",
   "execution_count": 78,
   "id": "ab908ca5",
   "metadata": {},
   "outputs": [
    {
     "data": {
      "text/plain": [
       "0.501074"
      ]
     },
     "execution_count": 78,
     "metadata": {},
     "output_type": "execute_result"
    }
   ],
   "source": [
    "# simulate 1 million tests of one fair coin flip\n",
    "# remember, the output of these tests are the # successes, or # heads\n",
    "tests = np.random.binomial(1, 0.5, int(1e6))\n",
    "\n",
    "# proportion of tests that produced heads\n",
    "(tests == 1).mean()"
   ]
  },
  {
   "cell_type": "markdown",
   "id": "dfd56379",
   "metadata": {},
   "source": [
    "### 2. Five fair coin flips produce exactly one head"
   ]
  },
  {
   "cell_type": "code",
   "execution_count": 79,
   "id": "a2e4d2cd",
   "metadata": {},
   "outputs": [
    {
     "data": {
      "text/plain": [
       "0.156261"
      ]
     },
     "execution_count": 79,
     "metadata": {},
     "output_type": "execute_result"
    }
   ],
   "source": [
    "# simulate 1 million tests of five fair coin flips\n",
    "tests =np.random.binomial(5,0.5,int(1e6))\n",
    "\n",
    "# proportion of tests that produced 1 head\n",
    "(tests==1).mean()"
   ]
  },
  {
   "cell_type": "markdown",
   "id": "5ed67025",
   "metadata": {},
   "source": [
    "### 3. Ten fair coin flips produce exactly four heads"
   ]
  },
  {
   "cell_type": "code",
   "execution_count": 80,
   "id": "ea2f0ed9",
   "metadata": {},
   "outputs": [
    {
     "data": {
      "text/plain": [
       "0.205439"
      ]
     },
     "execution_count": 80,
     "metadata": {},
     "output_type": "execute_result"
    }
   ],
   "source": [
    "# simulate 1 million tests of ten fair coin flips\n",
    "tests = np.random.binomial(10,0.5,int(1e6))\n",
    "\n",
    "# proportion of tests that produced 4 heads\n",
    "(tests==4).mean()"
   ]
  },
  {
   "cell_type": "markdown",
   "id": "d3f3b619",
   "metadata": {},
   "source": [
    "### 4. Five biased coin flips with P(H) = 0.8 produce exactly five heads"
   ]
  },
  {
   "cell_type": "code",
   "execution_count": 81,
   "id": "3e1fee6e",
   "metadata": {},
   "outputs": [
    {
     "data": {
      "text/plain": [
       "0.32775"
      ]
     },
     "execution_count": 81,
     "metadata": {},
     "output_type": "execute_result"
    }
   ],
   "source": [
    "# simulate 1 million tests of five biased coin flips\n",
    "tests = np.random.binomial(5,0.8,int(1e6))\n",
    "\n",
    "# proportion of tests that produced 5 heads\n",
    "(tests==5).mean()"
   ]
  },
  {
   "cell_type": "markdown",
   "id": "306f94d5",
   "metadata": {},
   "source": [
    "### 5. Ten biased coin flips with P(H) = 0.15 produce at least 3 heads"
   ]
  },
  {
   "cell_type": "code",
   "execution_count": 82,
   "id": "9cff3541",
   "metadata": {},
   "outputs": [
    {
     "data": {
      "text/plain": [
       "0.17956"
      ]
     },
     "execution_count": 82,
     "metadata": {},
     "output_type": "execute_result"
    }
   ],
   "source": [
    "# simulate 1 million tests of ten biased coin flips\n",
    "tests = np.random.binomial(10,0.15,int(1e6))\n",
    "\n",
    "# proportion of tests that produced at least 3 heads\n",
    "(tests>=3).mean()"
   ]
  },
  {
   "cell_type": "markdown",
   "id": "508d02b9",
   "metadata": {
    "collapsed": true
   },
   "source": [
    "# Cancer Test Results"
   ]
  },
  {
   "cell_type": "code",
   "execution_count": 84,
   "id": "868c0475",
   "metadata": {},
   "outputs": [
    {
     "data": {
      "text/html": [
       "<div>\n",
       "<style scoped>\n",
       "    .dataframe tbody tr th:only-of-type {\n",
       "        vertical-align: middle;\n",
       "    }\n",
       "\n",
       "    .dataframe tbody tr th {\n",
       "        vertical-align: top;\n",
       "    }\n",
       "\n",
       "    .dataframe thead th {\n",
       "        text-align: right;\n",
       "    }\n",
       "</style>\n",
       "<table border=\"1\" class=\"dataframe\">\n",
       "  <thead>\n",
       "    <tr style=\"text-align: right;\">\n",
       "      <th></th>\n",
       "      <th>patient_id</th>\n",
       "      <th>test_result</th>\n",
       "      <th>has_cancer</th>\n",
       "    </tr>\n",
       "  </thead>\n",
       "  <tbody>\n",
       "    <tr>\n",
       "      <th>0</th>\n",
       "      <td>79452</td>\n",
       "      <td>Negative</td>\n",
       "      <td>False</td>\n",
       "    </tr>\n",
       "    <tr>\n",
       "      <th>1</th>\n",
       "      <td>81667</td>\n",
       "      <td>Positive</td>\n",
       "      <td>True</td>\n",
       "    </tr>\n",
       "    <tr>\n",
       "      <th>2</th>\n",
       "      <td>76297</td>\n",
       "      <td>Negative</td>\n",
       "      <td>False</td>\n",
       "    </tr>\n",
       "    <tr>\n",
       "      <th>3</th>\n",
       "      <td>36593</td>\n",
       "      <td>Negative</td>\n",
       "      <td>False</td>\n",
       "    </tr>\n",
       "    <tr>\n",
       "      <th>4</th>\n",
       "      <td>53717</td>\n",
       "      <td>Negative</td>\n",
       "      <td>False</td>\n",
       "    </tr>\n",
       "    <tr>\n",
       "      <th>...</th>\n",
       "      <td>...</td>\n",
       "      <td>...</td>\n",
       "      <td>...</td>\n",
       "    </tr>\n",
       "    <tr>\n",
       "      <th>2909</th>\n",
       "      <td>39378</td>\n",
       "      <td>Negative</td>\n",
       "      <td>False</td>\n",
       "    </tr>\n",
       "    <tr>\n",
       "      <th>2910</th>\n",
       "      <td>58684</td>\n",
       "      <td>Negative</td>\n",
       "      <td>False</td>\n",
       "    </tr>\n",
       "    <tr>\n",
       "      <th>2911</th>\n",
       "      <td>64038</td>\n",
       "      <td>Negative</td>\n",
       "      <td>False</td>\n",
       "    </tr>\n",
       "    <tr>\n",
       "      <th>2912</th>\n",
       "      <td>61290</td>\n",
       "      <td>Positive</td>\n",
       "      <td>False</td>\n",
       "    </tr>\n",
       "    <tr>\n",
       "      <th>2913</th>\n",
       "      <td>75721</td>\n",
       "      <td>Positive</td>\n",
       "      <td>False</td>\n",
       "    </tr>\n",
       "  </tbody>\n",
       "</table>\n",
       "<p>2914 rows × 3 columns</p>\n",
       "</div>"
      ],
      "text/plain": [
       "      patient_id test_result  has_cancer\n",
       "0          79452    Negative       False\n",
       "1          81667    Positive        True\n",
       "2          76297    Negative       False\n",
       "3          36593    Negative       False\n",
       "4          53717    Negative       False\n",
       "...          ...         ...         ...\n",
       "2909       39378    Negative       False\n",
       "2910       58684    Negative       False\n",
       "2911       64038    Negative       False\n",
       "2912       61290    Positive       False\n",
       "2913       75721    Positive       False\n",
       "\n",
       "[2914 rows x 3 columns]"
      ]
     },
     "execution_count": 84,
     "metadata": {},
     "output_type": "execute_result"
    }
   ],
   "source": [
    "#load data\n",
    "import pandas as pd\n",
    "df = pd.read_csv('cancer_test_data.csv')\n",
    "df"
   ]
  },
  {
   "cell_type": "code",
   "execution_count": 101,
   "id": "21a968fa",
   "metadata": {},
   "outputs": [
    {
     "name": "stdout",
     "output_type": "stream",
     "text": [
      "number of patients:  2914 \n",
      "\n",
      "number of patients with cancer and without cancer\n",
      "        has_cancer\n",
      "False        2608\n",
      "True          306 \n",
      "\n",
      "proportion of patients with cancer and without\n",
      "        has_cancer\n",
      "False     0.89499\n",
      "True      0.10501 \n",
      "\n",
      "proportion of patients [(with)] cancer who test [(positive and negative)]\n",
      " Positive    0.905229\n",
      "Negative    0.094771\n",
      "Name: test_result, dtype: float64 \n",
      "\n",
      "proportion of patients [(without)] cancer who test (positive and negative)\n",
      " Negative    0.796396\n",
      "Positive    0.203604\n",
      "Name: test_result, dtype: float64 \n",
      "\n"
     ]
    }
   ],
   "source": [
    "# number of patients\n",
    "print('number of patients: ',df.patient_id.count(),'\\n')\n",
    "# number of patients with cancer and without cancer\n",
    "print('number of patients with cancer and without cancer\\n',pd.DataFrame(df.has_cancer.value_counts()),'\\n')\n",
    "# proportion of patients with cancer and without\n",
    "print('proportion of patients with cancer and without\\n',pd.DataFrame(df.has_cancer.value_counts(normalize=True)),'\\n')\n",
    "# proportion of patients with cancer who test positive and negative\n",
    "c = (df.has_cancer==True)\n",
    "no_c = (df.has_cancer==False)\n",
    "print ('proportion of patients [(with)] cancer who test [(positive and negative)]\\n',df[c].test_result.value_counts(normalize=True),'\\n')\n",
    "# proportion of patients without cancer who test positive and negative\n",
    "print ('proportion of patients [(without)] cancer who test (positive and negative)\\n',df[no_c].test_result.value_counts(normalize=True),'\\n')\n"
   ]
  },
  {
   "cell_type": "markdown",
   "id": "8ebb7867",
   "metadata": {},
   "source": [
    "<p style='font-size:20px;color:blue;'> Conditional Probability & Bayes Rule Quiz </p>     \n",
    "\n",
    "#### In the previous section, you found the following proportions from the cancer results dataset.    \n",
    "\n",
    "* Patients with cancer: 0.105\n",
    "* Patients without cancer: 0.895\n",
    "* Patients with cancer who tested positive: 0.905\n",
    "* Patients with cancer who tested negative: 0.095\n",
    "* Patients without cancer who tested positive: 0.204\n",
    "* Patients without cancer who tested negative: 0.796\n",
    "#### Based on the above proportions observed in the data, we can assume the following probabilities.        <br>\n",
    "* Probability\tMeaning\n",
    " - P(cancer) = 0.105\tProbability a patient has cancer\n",
    " - P(~cancer) = 0.895\tProbability a patient does not have cancer\n",
    " - P(positive|cancer) = 0.905\tProbability a patient with cancer tests positive\n",
    " - P(negative|cancer) = 0.095\tProbability a patient with cancer tests negative\n",
    " - P(positive|~cancer) = 0.204\tProbability a patient without cancer tests positive\n",
    " - P(negative|~cancer) = 0.796\tProbability a patient without cancer tests negative\n",
    "\n",
    "### Quiz Questions\n",
    "    - Use the probabilities given above and Bayes rule to compute the following probabilities.\n",
    "\n",
    "* Probability a patient who tested positive has cancer, or P(cancer|positive)\n",
    "* Probability a patient who tested positive doesn't have cancer, or P(~cancer|positive)\n",
    "* Probability a patient who tested negative has cancer, or P(cancer|negative)\n",
    "* Probability a patient who tested negative doesn't have cancer, or P(~cancer|negative)\n",
    "#### Then, use the Jupyter notebook to compare them to true proportions in the dataset."
   ]
  },
  {
   "cell_type": "code",
   "execution_count": 105,
   "id": "62ea9d73",
   "metadata": {},
   "outputs": [
    {
     "data": {
      "text/plain": [
       "0.34282178217821785"
      ]
     },
     "execution_count": 105,
     "metadata": {},
     "output_type": "execute_result"
    }
   ],
   "source": [
    "#load data\n",
    "import pandas as pd\n",
    "df = pd.read_csv('cancer_test_data.csv')\n",
    "df\n",
    "# What proportion of patients who tested positive have cancer?\n",
    "(df.query('test_result == \"Positive\"')['has_cancer']).mean()"
   ]
  },
  {
   "cell_type": "code",
   "execution_count": 106,
   "id": "690ec8a0",
   "metadata": {},
   "outputs": [
    {
     "data": {
      "text/plain": [
       "0.6571782178217822"
      ]
     },
     "execution_count": 106,
     "metadata": {},
     "output_type": "execute_result"
    }
   ],
   "source": [
    "# What proportion of patients who tested positive don't have cancer?\n",
    "1-(df.query('test_result == \"Positive\"')['has_cancer']).mean()"
   ]
  },
  {
   "cell_type": "code",
   "execution_count": 107,
   "id": "d3a40e14",
   "metadata": {},
   "outputs": [
    {
     "data": {
      "text/plain": [
       "0.013770180436847104"
      ]
     },
     "execution_count": 107,
     "metadata": {},
     "output_type": "execute_result"
    }
   ],
   "source": [
    "# What proportion of patients who tested negative have cancer?\n",
    "(df.query('test_result == \"Negative\"')['has_cancer']).mean()"
   ]
  },
  {
   "cell_type": "code",
   "execution_count": 108,
   "id": "7de82fb4",
   "metadata": {},
   "outputs": [
    {
     "data": {
      "text/plain": [
       "0.9862298195631529"
      ]
     },
     "execution_count": 108,
     "metadata": {},
     "output_type": "execute_result"
    }
   ],
   "source": [
    "# What proportion of patients who tested negative don't have cancer?\n",
    "1-(df.query('test_result == \"Negative\"')['has_cancer']).mean()"
   ]
  },
  {
   "cell_type": "code",
   "execution_count": null,
   "id": "8f21ae17",
   "metadata": {},
   "outputs": [],
   "source": []
  }
 ],
 "metadata": {
  "kernelspec": {
   "display_name": "Python [conda env:anaconda3]",
   "language": "python",
   "name": "conda-env-anaconda3-py"
  },
  "language_info": {
   "codemirror_mode": {
    "name": "ipython",
    "version": 3
   },
   "file_extension": ".py",
   "mimetype": "text/x-python",
   "name": "python",
   "nbconvert_exporter": "python",
   "pygments_lexer": "ipython3",
   "version": "3.8.3"
  }
 },
 "nbformat": 4,
 "nbformat_minor": 5
}
