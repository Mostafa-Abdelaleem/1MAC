{
 "cells": [
  {
   "cell_type": "markdown",
   "id": "25e4608e",
   "metadata": {},
   "source": [
    "<p style='font-size:30px;color:red;text-align:center'> Probabilty Practice </p>"
   ]
  },
  {
   "cell_type": "markdown",
   "id": "77912919",
   "metadata": {},
   "source": [
    "# Coin Flips and Die Rolls\n",
    "Use NumPy to create simulations and compute proportions for the following outcomes. The first one is done for you.\n",
    "\n",
    "**Please note again that we are using 0 to represent heads, and 1 to represent tails.**"
   ]
  },
  {
   "cell_type": "code",
   "execution_count": 1,
   "id": "60d0eb31",
   "metadata": {},
   "outputs": [],
   "source": [
    "import numpy as np"
   ]
  },
  {
   "cell_type": "code",
   "execution_count": 2,
   "id": "88c3d710",
   "metadata": {},
   "outputs": [
    {
     "name": "stdout",
     "output_type": "stream",
     "text": [
      "1 [0 0 0 ... 0 1 1] 0.500294\n"
     ]
    }
   ],
   "source": [
    "#simulate a fair coin flip\n",
    "print(\n",
    "    np.random.randint(2),#create a random int from a lower bound inclusive (default is zero) and upper bound exclusive\n",
    "    np.random.randint(2,size=int(1e6)),\n",
    "    np.random.randint(2,size=int(1e6)).mean()\n",
    "    )"
   ]
  },
  {
   "cell_type": "code",
   "execution_count": 3,
   "id": "9f8f2b97",
   "metadata": {},
   "outputs": [
    {
     "data": {
      "text/plain": [
       "0.2073"
      ]
     },
     "execution_count": 3,
     "metadata": {},
     "output_type": "execute_result"
    }
   ],
   "source": [
    "#simulate a loaded coin flip\n",
    "np.random.choice([0,1],p=[0.8,.2],size=10000)#choose a random value from giving values with the probabiliy for each value given\n",
    "np.random.choice([0,1],p=[0.8,.2],size=10000).mean()\n",
    "\n"
   ]
  },
  {
   "cell_type": "markdown",
   "id": "d1f4a18c",
   "metadata": {},
   "source": [
    "## 1. Two fair coin flips produce exactly two heads"
   ]
  },
  {
   "cell_type": "code",
   "execution_count": 4,
   "id": "bee8bbca",
   "metadata": {},
   "outputs": [
    {
     "name": "stdout",
     "output_type": "stream",
     "text": [
      "tests: [[1 0]\n",
      " [0 1]\n",
      " [0 0]\n",
      " ...\n",
      " [0 0]\n",
      " [1 0]\n",
      " [1 1]]\n",
      "test_sums: [1 1 0 ... 0 1 2]\n"
     ]
    },
    {
     "data": {
      "text/plain": [
       "0.249457"
      ]
     },
     "execution_count": 4,
     "metadata": {},
     "output_type": "execute_result"
    }
   ],
   "source": [
    "# simulate 1 million tests of two fair coin flips\n",
    "tests = np.random.randint(2, size=(int(1e6), 2))\n",
    "print('tests:',tests)\n",
    "# sums of all tests\n",
    "test_sums = tests.sum(axis=1)\n",
    "print('test_sums:',test_sums )\n",
    "# proportion of tests that produced exactly two heads\n",
    "(test_sums == 0).mean()"
   ]
  },
  {
   "cell_type": "markdown",
   "id": "83b5bf97",
   "metadata": {},
   "source": [
    "## 2. Three fair coin flips produce exactly one head"
   ]
  },
  {
   "cell_type": "code",
   "execution_count": 5,
   "id": "a0ff44ed",
   "metadata": {},
   "outputs": [
    {
     "name": "stdout",
     "output_type": "stream",
     "text": [
      "tests: [[1 1 1]\n",
      " [0 1 0]\n",
      " [0 0 1]\n",
      " ...\n",
      " [0 1 0]\n",
      " [1 1 1]\n",
      " [0 0 1]]\n",
      "test_sums: [3 1 1 ... 1 3 1]\n"
     ]
    },
    {
     "data": {
      "text/plain": [
       "0.375177"
      ]
     },
     "execution_count": 5,
     "metadata": {},
     "output_type": "execute_result"
    }
   ],
   "source": [
    "# simulate 1 million tests of three fair coin flips\n",
    "tests=np.random.randint( 2,size=(int(1e6),3) )\n",
    "print('tests:',tests)\n",
    "# sums of all tests\n",
    "test_sums = tests.sum(axis=1)\n",
    "print('test_sums:',test_sums )\n",
    "# proportion of tests that produced exactly one head\n",
    "(test_sums == 1).mean()"
   ]
  },
  {
   "cell_type": "markdown",
   "id": "0e853cf9",
   "metadata": {},
   "source": [
    "## 3. Three biased coin flips with P(H) = 0.6 produce exactly one head"
   ]
  },
  {
   "cell_type": "code",
   "execution_count": 6,
   "id": "c3f4e19e",
   "metadata": {},
   "outputs": [
    {
     "name": "stdout",
     "output_type": "stream",
     "text": [
      "[[0 0 0]\n",
      " [1 1 0]\n",
      " [0 0 0]\n",
      " ...\n",
      " [0 1 1]\n",
      " [0 0 1]\n",
      " [0 1 1]]\n",
      "[0 2 0 ... 2 1 2]\n"
     ]
    },
    {
     "data": {
      "text/plain": [
       "0.287965"
      ]
     },
     "execution_count": 6,
     "metadata": {},
     "output_type": "execute_result"
    }
   ],
   "source": [
    "# simulate 1 million tests of three biased coin flips\n",
    "# hint: use np.random.choice()\n",
    "tests = np.random.choice([0,1],p=[0.6,0.4],size=(int(1e6),3))\n",
    "print(tests)\n",
    "\n",
    "# sums of all tests\n",
    "test_sums = tests.sum(axis=1)\n",
    "print(test_sums)\n",
    "\n",
    "# proportion of tests that produced exactly one head\n",
    "(test_sums == 2).mean()"
   ]
  },
  {
   "cell_type": "markdown",
   "id": "a1277795",
   "metadata": {},
   "source": [
    "## 4. A die rolls an even number"
   ]
  },
  {
   "cell_type": "code",
   "execution_count": 7,
   "id": "baa29fd5",
   "metadata": {},
   "outputs": [
    {
     "name": "stdout",
     "output_type": "stream",
     "text": [
      "[1 6 4 ... 4 2 6]\n"
     ]
    },
    {
     "data": {
      "text/plain": [
       "0.499952"
      ]
     },
     "execution_count": 7,
     "metadata": {},
     "output_type": "execute_result"
    }
   ],
   "source": [
    "# simulate 1 million tests of one die roll\n",
    "tests = np.random.randint(1,7,size=(int(1e6)))\n",
    "print(tests)\n",
    "# proportion of tests that produced an even number\n",
    "(tests%2==0).mean()"
   ]
  },
  {
   "cell_type": "markdown",
   "id": "82826935",
   "metadata": {},
   "source": [
    "## 5. Two dice roll a double"
   ]
  },
  {
   "cell_type": "code",
   "execution_count": 8,
   "id": "3624efdc",
   "metadata": {},
   "outputs": [
    {
     "data": {
      "text/plain": [
       "0.166807"
      ]
     },
     "execution_count": 8,
     "metadata": {},
     "output_type": "execute_result"
    }
   ],
   "source": [
    "# simulate the first million die rolls\n",
    "first = np.random.randint(1,7,size=(int(1e6)))\n",
    "\n",
    "\n",
    "# simulate the second million die rolls\n",
    "second = np.random.randint(1,7,size=(int(1e6)))\n",
    "\n",
    "# proportion of tests where the 1st and 2nd die rolled the same number\n",
    "(first == second).mean()"
   ]
  },
  {
   "cell_type": "markdown",
   "id": "a669ef45",
   "metadata": {},
   "source": [
    "# Binomial Distributions\n",
    "Use NumPy to create simulations and compute proportions for the following outcomes. The first one is done for you."
   ]
  },
  {
   "cell_type": "code",
   "execution_count": 9,
   "id": "adc88f37",
   "metadata": {},
   "outputs": [
    {
     "name": "stdout",
     "output_type": "stream",
     "text": [
      "6\n",
      "[3 4 8 4 6 6 3 5 7 5 3 6 6 2 5 5 3 8 4 6]\n",
      "4.7\n"
     ]
    },
    {
     "data": {
      "text/plain": [
       "5.001365"
      ]
     },
     "execution_count": 9,
     "metadata": {},
     "output_type": "execute_result"
    }
   ],
   "source": [
    "# number of heads from 10 fair coin flips\n",
    "print(np.random.binomial(10, 0.5))#return number of successes for n (10) number of tests with p (0.5) probabilty of success\n",
    "# results from 20 tests with 10 coin flips\n",
    "print(np.random.binomial(10, 0.5, 20))\n",
    "# mean number of heads from the 20 tests\n",
    "print(np.random.binomial(10, 0.5, 20).mean())\n",
    "# reflects the fairness of the coin more closely as # tests increases\n",
    "np.random.binomial(10, 0.5, 1000000).mean()"
   ]
  },
  {
   "cell_type": "code",
   "execution_count": 10,
   "id": "5bd0df75",
   "metadata": {},
   "outputs": [
    {
     "data": {
      "image/png": "[encoded data removed]",
      "text/plain": [
       "<Figure size 432x288 with 1 Axes>"
      ]
     },
     "metadata": {
      "needs_background": "light"
     },
     "output_type": "display_data"
    }
   ],
   "source": [
    "import matplotlib.pyplot as plt\n",
    "%matplotlib inline\n",
    "plt.hist(np.random.binomial(10, 0.5, 1000000));"
   ]
  },
  {
   "cell_type": "code",
   "execution_count": 11,
   "id": "30c093cd",
   "metadata": {},
   "outputs": [
    {
     "data": {
      "image/png": "[encoded data removed]",
      "text/plain": [
       "<Figure size 432x288 with 1 Axes>"
      ]
     },
     "metadata": {
      "needs_background": "light"
     },
     "output_type": "display_data"
    }
   ],
   "source": [
    "# gets more narrow as number of flips increase per test\n",
    "plt.hist(np.random.binomial(100, 0.5, 1000000));"
   ]
  },
  {
   "cell_type": "markdown",
   "id": "ec0b16cd",
   "metadata": {},
   "source": [
    "### 1. A fair coin flip produces heads"
   ]
  },
  {
   "cell_type": "code",
   "execution_count": 12,
   "id": "4d754605",
   "metadata": {},
   "outputs": [
    {
     "data": {
      "text/plain": [
       "0.500713"
      ]
     },
     "execution_count": 12,
     "metadata": {},
     "output_type": "execute_result"
    }
   ],
   "source": [
    "# simulate 1 million tests of one fair coin flip\n",
    "# remember, the output of these tests are the # successes, or # heads\n",
    "tests = np.random.binomial(1, 0.5, int(1e6))\n",
    "\n",
    "# proportion of tests that produced heads\n",
    "(tests == 1).mean()"
   ]
  },
  {
   "cell_type": "markdown",
   "id": "9ffad8ab",
   "metadata": {},
   "source": [
    "### 2. Five fair coin flips produce exactly one head"
   ]
  },
  {
   "cell_type": "code",
   "execution_count": 13,
   "id": "18553509",
   "metadata": {},
   "outputs": [
    {
     "data": {
      "text/plain": [
       "0.156888"
      ]
     },
     "execution_count": 13,
     "metadata": {},
     "output_type": "execute_result"
    }
   ],
   "source": [
    "# simulate 1 million tests of five fair coin flips\n",
    "tests =np.random.binomial(5,0.5,int(1e6))\n",
    "\n",
    "# proportion of tests that produced 1 head\n",
    "(tests==1).mean()"
   ]
  },
  {
   "cell_type": "markdown",
   "id": "fb156fd7",
   "metadata": {},
   "source": [
    "### 3. Ten fair coin flips produce exactly four heads"
   ]
  },
  {
   "cell_type": "code",
   "execution_count": 14,
   "id": "24542b6a",
   "metadata": {},
   "outputs": [
    {
     "data": {
      "text/plain": [
       "0.204905"
      ]
     },
     "execution_count": 14,
     "metadata": {},
     "output_type": "execute_result"
    }
   ],
   "source": [
    "# simulate 1 million tests of ten fair coin flips\n",
    "tests = np.random.binomial(10,0.5,int(1e6))\n",
    "\n",
    "# proportion of tests that produced 4 heads\n",
    "(tests==4).mean()"
   ]
  },
  {
   "cell_type": "markdown",
   "id": "452106f7",
   "metadata": {},
   "source": [
    "### 4. Five biased coin flips with P(H) = 0.8 produce exactly five heads"
   ]
  },
  {
   "cell_type": "code",
   "execution_count": 15,
   "id": "f5f0ef8d",
   "metadata": {},
   "outputs": [
    {
     "data": {
      "text/plain": [
       "0.328519"
      ]
     },
     "execution_count": 15,
     "metadata": {},
     "output_type": "execute_result"
    }
   ],
   "source": [
    "# simulate 1 million tests of five biased coin flips\n",
    "tests = np.random.binomial(5,0.8,int(1e6))\n",
    "\n",
    "# proportion of tests that produced 5 heads\n",
    "(tests==5).mean()"
   ]
  },
  {
   "cell_type": "markdown",
   "id": "78ac858a",
   "metadata": {},
   "source": [
    "### 5. Ten biased coin flips with P(H) = 0.15 produce at least 3 heads"
   ]
  },
  {
   "cell_type": "code",
   "execution_count": 16,
   "id": "45895621",
   "metadata": {},
   "outputs": [
    {
     "data": {
      "text/plain": [
       "0.180518"
      ]
     },
     "execution_count": 16,
     "metadata": {},
     "output_type": "execute_result"
    }
   ],
   "source": [
    "# simulate 1 million tests of ten biased coin flips\n",
    "tests = np.random.binomial(10,0.15,int(1e6))\n",
    "\n",
    "# proportion of tests that produced at least 3 heads\n",
    "(tests>=3).mean()"
   ]
  },
  {
   "cell_type": "markdown",
   "id": "d8e06aae",
   "metadata": {
    "collapsed": true
   },
   "source": [
    "# Cancer Test Results"
   ]
  },
  {
   "cell_type": "code",
   "execution_count": 17,
   "id": "07a8f67a",
   "metadata": {},
   "outputs": [
    {
     "data": {
      "text/html": [
       "<div>\n",
       "<style scoped>\n",
       "    .dataframe tbody tr th:only-of-type {\n",
       "        vertical-align: middle;\n",
       "    }\n",
       "\n",
       "    .dataframe tbody tr th {\n",
       "        vertical-align: top;\n",
       "    }\n",
       "\n",
       "    .dataframe thead th {\n",
       "        text-align: right;\n",
       "    }\n",
       "</style>\n",
       "<table border=\"1\" class=\"dataframe\">\n",
       "  <thead>\n",
       "    <tr style=\"text-align: right;\">\n",
       "      <th></th>\n",
       "      <th>patient_id</th>\n",
       "      <th>test_result</th>\n",
       "      <th>has_cancer</th>\n",
       "    </tr>\n",
       "  </thead>\n",
       "  <tbody>\n",
       "    <tr>\n",
       "      <th>0</th>\n",
       "      <td>79452</td>\n",
       "      <td>Negative</td>\n",
       "      <td>False</td>\n",
       "    </tr>\n",
       "    <tr>\n",
       "      <th>1</th>\n",
       "      <td>81667</td>\n",
       "      <td>Positive</td>\n",
       "      <td>True</td>\n",
       "    </tr>\n",
       "    <tr>\n",
       "      <th>2</th>\n",
       "      <td>76297</td>\n",
       "      <td>Negative</td>\n",
       "      <td>False</td>\n",
       "    </tr>\n",
       "    <tr>\n",
       "      <th>3</th>\n",
       "      <td>36593</td>\n",
       "      <td>Negative</td>\n",
       "      <td>False</td>\n",
       "    </tr>\n",
       "    <tr>\n",
       "      <th>4</th>\n",
       "      <td>53717</td>\n",
       "      <td>Negative</td>\n",
       "      <td>False</td>\n",
       "    </tr>\n",
       "    <tr>\n",
       "      <th>...</th>\n",
       "      <td>...</td>\n",
       "      <td>...</td>\n",
       "      <td>...</td>\n",
       "    </tr>\n",
       "    <tr>\n",
       "      <th>2909</th>\n",
       "      <td>39378</td>\n",
       "      <td>Negative</td>\n",
       "      <td>False</td>\n",
       "    </tr>\n",
       "    <tr>\n",
       "      <th>2910</th>\n",
       "      <td>58684</td>\n",
       "      <td>Negative</td>\n",
       "      <td>False</td>\n",
       "    </tr>\n",
       "    <tr>\n",
       "      <th>2911</th>\n",
       "      <td>64038</td>\n",
       "      <td>Negative</td>\n",
       "      <td>False</td>\n",
       "    </tr>\n",
       "    <tr>\n",
       "      <th>2912</th>\n",
       "      <td>61290</td>\n",
       "      <td>Positive</td>\n",
       "      <td>False</td>\n",
       "    </tr>\n",
       "    <tr>\n",
       "      <th>2913</th>\n",
       "      <td>75721</td>\n",
       "      <td>Positive</td>\n",
       "      <td>False</td>\n",
       "    </tr>\n",
       "  </tbody>\n",
       "</table>\n",
       "<p>2914 rows × 3 columns</p>\n",
       "</div>"
      ],
      "text/plain": [
       "      patient_id test_result  has_cancer\n",
       "0          79452    Negative       False\n",
       "1          81667    Positive        True\n",
       "2          76297    Negative       False\n",
       "3          36593    Negative       False\n",
       "4          53717    Negative       False\n",
       "...          ...         ...         ...\n",
       "2909       39378    Negative       False\n",
       "2910       58684    Negative       False\n",
       "2911       64038    Negative       False\n",
       "2912       61290    Positive       False\n",
       "2913       75721    Positive       False\n",
       "\n",
       "[2914 rows x 3 columns]"
      ]
     },
     "execution_count": 17,
     "metadata": {},
     "output_type": "execute_result"
    }
   ],
   "source": [
    "#load data\n",
    "import pandas as pd\n",
    "df = pd.read_csv('cancer_test_data.csv')\n",
    "df"
   ]
  },
  {
   "cell_type": "code",
   "execution_count": 18,
   "id": "92aa3411",
   "metadata": {},
   "outputs": [
    {
     "name": "stdout",
     "output_type": "stream",
     "text": [
      "number of patients:  2914 \n",
      "\n",
      "number of patients with cancer and without cancer\n",
      "        has_cancer\n",
      "False        2608\n",
      "True          306 \n",
      "\n",
      "proportion of patients with cancer and without\n",
      "        has_cancer\n",
      "False     0.89499\n",
      "True      0.10501 \n",
      "\n",
      "proportion of patients [(with)] cancer who test [(positive and negative)]\n",
      " Positive    0.905229\n",
      "Negative    0.094771\n",
      "Name: test_result, dtype: float64 \n",
      "\n",
      "proportion of patients [(without)] cancer who test (positive and negative)\n",
      " Negative    0.796396\n",
      "Positive    0.203604\n",
      "Name: test_result, dtype: float64 \n",
      "\n"
     ]
    }
   ],
   "source": [
    "# number of patients\n",
    "print('number of patients: ',df.patient_id.count(),'\\n')\n",
    "# number of patients with cancer and without cancer\n",
    "print('number of patients with cancer and without cancer\\n',pd.DataFrame(df.has_cancer.value_counts()),'\\n')\n",
    "# proportion of patients with cancer and without\n",
    "print('proportion of patients with cancer and without\\n',pd.DataFrame(df.has_cancer.value_counts(normalize=True)),'\\n')\n",
    "# proportion of patients with cancer who test positive and negative\n",
    "c = (df.has_cancer==True)\n",
    "no_c = (df.has_cancer==False)\n",
    "print ('proportion of patients [(with)] cancer who test [(positive and negative)]\\n',df[c].test_result.value_counts(normalize=True),'\\n')\n",
    "# proportion of patients without cancer who test positive and negative\n",
    "print ('proportion of patients [(without)] cancer who test (positive and negative)\\n',df[no_c].test_result.value_counts(normalize=True),'\\n')\n"
   ]
  },
  {
   "cell_type": "markdown",
   "id": "a3df92d9",
   "metadata": {},
   "source": [
    "<p style='font-size:20px;color:blue;'> Conditional Probability & Bayes Rule Quiz </p>     \n",
    "\n",
    "#### In the previous section, you found the following proportions from the cancer results dataset.    \n",
    "\n",
    "* Patients with cancer: 0.105\n",
    "* Patients without cancer: 0.895\n",
    "* Patients with cancer who tested positive: 0.905\n",
    "* Patients with cancer who tested negative: 0.095\n",
    "* Patients without cancer who tested positive: 0.204\n",
    "* Patients without cancer who tested negative: 0.796\n",
    "#### Based on the above proportions observed in the data, we can assume the following probabilities.        <br>\n",
    "* Probability\tMeaning\n",
    " - P(cancer) = 0.105\tProbability a patient has cancer\n",
    " - P(~cancer) = 0.895\tProbability a patient does not have cancer\n",
    " - P(positive|cancer) = 0.905\tProbability a patient with cancer tests positive\n",
    " - P(negative|cancer) = 0.095\tProbability a patient with cancer tests negative\n",
    " - P(positive|~cancer) = 0.204\tProbability a patient without cancer tests positive\n",
    " - P(negative|~cancer) = 0.796\tProbability a patient without cancer tests negative\n",
    "\n",
    "### Quiz Questions\n",
    "    - Use the probabilities given above and Bayes rule to compute the following probabilities.\n",
    "\n",
    "* Probability a patient who tested positive has cancer, or P(cancer|positive)\n",
    "* Probability a patient who tested positive doesn't have cancer, or P(~cancer|positive)\n",
    "* Probability a patient who tested negative has cancer, or P(cancer|negative)\n",
    "* Probability a patient who tested negative doesn't have cancer, or P(~cancer|negative)\n",
    "#### Then, use the Jupyter notebook to compare them to true proportions in the dataset."
   ]
  },
  {
   "cell_type": "code",
   "execution_count": 19,
   "id": "c90ff1b9",
   "metadata": {},
   "outputs": [
    {
     "data": {
      "text/plain": [
       "0.34282178217821785"
      ]
     },
     "execution_count": 19,
     "metadata": {},
     "output_type": "execute_result"
    }
   ],
   "source": [
    "#load data\n",
    "import pandas as pd\n",
    "df = pd.read_csv('cancer_test_data.csv')\n",
    "df\n",
    "# What proportion of patients who tested positive have cancer?\n",
    "(df.query('test_result == \"Positive\"')['has_cancer']).mean()"
   ]
  },
  {
   "cell_type": "code",
   "execution_count": 20,
   "id": "a30c21b5",
   "metadata": {},
   "outputs": [
    {
     "data": {
      "text/plain": [
       "0.6571782178217822"
      ]
     },
     "execution_count": 20,
     "metadata": {},
     "output_type": "execute_result"
    }
   ],
   "source": [
    "# What proportion of patients who tested positive don't have cancer?\n",
    "1-(df.query('test_result == \"Positive\"')['has_cancer']).mean()"
   ]
  },
  {
   "cell_type": "code",
   "execution_count": 21,
   "id": "f4e5160d",
   "metadata": {},
   "outputs": [
    {
     "data": {
      "text/plain": [
       "0.013770180436847104"
      ]
     },
     "execution_count": 21,
     "metadata": {},
     "output_type": "execute_result"
    }
   ],
   "source": [
    "# What proportion of patients who tested negative have cancer?\n",
    "(df.query('test_result == \"Negative\"')['has_cancer']).mean()"
   ]
  },
  {
   "cell_type": "code",
   "execution_count": 22,
   "id": "3579810b",
   "metadata": {},
   "outputs": [
    {
     "data": {
      "text/plain": [
       "0.9862298195631529"
      ]
     },
     "execution_count": 22,
     "metadata": {},
     "output_type": "execute_result"
    }
   ],
   "source": [
    "# What proportion of patients who tested negative don't have cancer?\n",
    "1-(df.query('test_result == \"Negative\"')['has_cancer']).mean()"
   ]
  },
  {
   "cell_type": "markdown",
   "id": "777ab98e",
   "metadata": {},
   "source": [
    "<p style='font-size:30px;color:blue;'> Central limit theorem </p><br>\n",
    "\n",
    "### The central limit theorem states that if you have a population with mean μ and standard deviation σ and take sufficiently large random samples from the population with replacement , then the distribution of the sample means will be approximately normally distributed."
   ]
  },
  {
   "cell_type": "code",
   "execution_count": 23,
   "id": "d34dd5e8",
   "metadata": {},
   "outputs": [
    {
     "data": {
      "text/plain": [
       "0.482"
      ]
     },
     "execution_count": 23,
     "metadata": {},
     "output_type": "execute_result"
    }
   ],
   "source": [
    "#flib a coin 1000 times and get the mean of number of heads where heads=0 and tails =1\n",
    "experiment_1=np.random.randint(2,size=1000)\n",
    "Mean_of_experiment_1=(experiment_1 == 0).mean()\n",
    "Mean_of_experiment_1"
   ]
  },
  {
   "cell_type": "code",
   "execution_count": 32,
   "id": "e44b2346",
   "metadata": {},
   "outputs": [
    {
     "name": "stdout",
     "output_type": "stream",
     "text": [
      "1.02 s ± 50.9 ms per loop (mean ± std. dev. of 7 runs, 1 loop each)\n"
     ]
    }
   ],
   "source": [
    "%%timeit\n",
    "\n",
    "#repeat experiment_1 1000 time \n",
    "means=[]\n",
    "for i in range(0,int(1e4)):\n",
    "    experiment_1=np.random.randint(2,size=int(1e4))\n",
    "    means.append((experiment_1 == 0).mean())\n"
   ]
  },
  {
   "cell_type": "code",
   "execution_count": 33,
   "id": "637b17fb",
   "metadata": {},
   "outputs": [
    {
     "data": {
      "text/plain": [
       "(array([  47.,  225.,  953., 2083., 2795., 2333., 1137.,  348.,   70.,\n",
       "          10.]),\n",
       " array([0.4835 , 0.48708, 0.49066, 0.49424, 0.49782, 0.5014 , 0.50498,\n",
       "        0.50856, 0.51214, 0.51572, 0.5193 ]),\n",
       " <a list of 10 Patch objects>)"
      ]
     },
     "execution_count": 33,
     "metadata": {},
     "output_type": "execute_result"
    },
    {
     "data": {
      "image/png": "[encoded data removed]",
      "text/plain": [
       "<Figure size 432x288 with 1 Axes>"
      ]
     },
     "metadata": {
      "needs_background": "light"
     },
     "output_type": "display_data"
    }
   ],
   "source": [
    "#draw means\n",
    "plt.hist(means)"
   ]
  },
  {
   "cell_type": "markdown",
   "id": "e739d5e9",
   "metadata": {},
   "source": [
    "### Sampling Distributions Introduction\n",
    "\n",
    "In order to gain a bit more comfort with this idea of sampling distributions, let's do some practice in python.\n",
    "\n",
    "Below is an array that represents the students we saw in the previous videos, where 1 represents the students that drink coffee, and 0 represents the students that do not drink coffee."
   ]
  },
  {
   "cell_type": "code",
   "execution_count": 74,
   "id": "ee316496",
   "metadata": {},
   "outputs": [
    {
     "data": {
      "text/plain": [
       "0.6"
      ]
     },
     "metadata": {},
     "output_type": "display_data"
    },
    {
     "name": "stdout",
     "output_type": "stream",
     "text": [
      "std of the data is:  0.45175395145262565\n",
      "var of the data is:  0.20408163265306126 \n",
      "\n",
      "when sample is 5 out of 21 std is:  0.2043624231604235\n",
      "when sample is 5 out of 21 var is:  0.041763999999999996 \n",
      "\n",
      "The variance of the original data 0.20408163265306123\n",
      "variance of the sampling distribution 0.04081632653061225 \n",
      "\n",
      "when sample is 20 out of 21 std is:  0.10149381446669545\n",
      "when sample is 20 out of 21 var is:  0.010300994374999999\n"
     ]
    }
   ],
   "source": [
    "import numpy as np\n",
    "np.random.seed(42)\n",
    "\n",
    "students = np.array([1,0,1,1,1,1,0,0,0,0,1,1,1,1,1,1,1,1,1,1,0])\n",
    "#proportion of students who drink coffee in the above array\n",
    "p = students.mean()\n",
    "#simulate 5 draws from the students array\n",
    "sample=np.random.choice(students,5,replace=True)\n",
    "display(sample.mean())\n",
    "#repeat the sampling 10000\n",
    "sample_props=[]\n",
    "for i in range (10000):\n",
    "    sample=np.random.choice(students,5,replace=True)\n",
    "    sample_props.append(sample.mean())\n",
    "#What is the mean proportion of all 10,000 of these proportions\n",
    "#This is often called the mean of the ((( sampling distribution. )))\n",
    "np.array(sample_props).mean()\n",
    "#What are the variance and standard deviation for the original 21 data values?\n",
    "print('std of the data is: ',np.std(students))\n",
    "print('var of the data is: ',np.var(students),'\\n')\n",
    "#What are the variance and standard deviation for the 10,000 proportions you created?\n",
    "print('when sample is 5 out of 21 std is: ',np.std(sample_props))\n",
    "print('when sample is 5 out of 21 var is: ',np.var(sample_props),'\\n')\n",
    "#Compute p(1-p), which of your answers does this most closely match?\n",
    "print('The variance of the original data',p*(1-p)) # The variance of the original data\n",
    "#Compute p(1-p)/n, which of your answers does this most closely match?\n",
    "print('variance of the sampling distribution',p*(1-p)/5,'\\n')# The variance of the sample mean of size 5  /  commonly called the variance of the sampling distribution.\n",
    "#If you were to change your first sample to be 20, what would this do for the variance of the sampling distribution\n",
    "sample_props2=[]\n",
    "for i in range (10000):\n",
    "    sample=np.random.choice(students,20,replace=True)\n",
    "    sample_props2.append(sample.mean())\n",
    "print('when sample is 20 out of 21 std is: ',np.array(sample_props2).std())\n",
    "print('when sample is 20 out of 21 var is: ',np.array(sample_props2).var())\n"
   ]
  },
  {
   "cell_type": "code",
   "execution_count": null,
   "id": "ea5cd26b",
   "metadata": {},
   "outputs": [],
   "source": []
  },
  {
   "cell_type": "code",
   "execution_count": null,
   "id": "6589d888",
   "metadata": {},
   "outputs": [],
   "source": []
  }
 ],
 "metadata": {
  "kernelspec": {
   "display_name": "Python [conda env:anaconda3]",
   "language": "python",
   "name": "conda-env-anaconda3-py"
  },
  "language_info": {
   "codemirror_mode": {
    "name": "ipython",
    "version": 3
   },
   "file_extension": ".py",
   "mimetype": "text/x-python",
   "name": "python",
   "nbconvert_exporter": "python",
   "pygments_lexer": "ipython3",
   "version": "3.8.3"
  }
 },
 "nbformat": 4,
 "nbformat_minor": 5
}
